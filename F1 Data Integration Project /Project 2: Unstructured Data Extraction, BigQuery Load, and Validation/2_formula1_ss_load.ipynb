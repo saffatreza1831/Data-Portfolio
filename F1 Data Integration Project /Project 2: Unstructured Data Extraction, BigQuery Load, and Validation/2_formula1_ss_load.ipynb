{
  "nbformat": 4,
  "nbformat_minor": 0,
  "metadata": {
    "colab": {
      "name": "2-formula1-ss-load",
      "cell_execution_strategy": "setup",
      "provenance": []
    },
    "kernelspec": {
      "name": "python3",
      "display_name": "Python 3"
    },
    "language_info": {
      "name": "python"
    }
  },
  "cells": [
    {
      "cell_type": "markdown",
      "source": [
        "## Create raw table for the Formula 1 warehouse"
      ],
      "metadata": {
        "id": "HwEB486W1v57"
      }
    },
    {
      "cell_type": "markdown",
      "source": [
        "## Load data files into BQ tables\n",
        "\n"
      ],
      "metadata": {
        "id": "42XxGhlR183A"
      }
    },
    {
      "cell_type": "markdown",
      "source": [
        "### Create BQ dataset for storing data"
      ],
      "metadata": {
        "id": "vmu06Zt-2Ozu"
      }
    },
    {
      "cell_type": "code",
      "source": [
        "from google.cloud import bigquery\n",
        "\n",
        "project_id = \"saffatandsourik\"\n",
        "dataset = \"formula1_raw\"\n",
        "region = \"us-central1\"\n",
        "\n",
        "bq_client = bigquery.Client()\n",
        "\n",
        "dataset_id = bigquery.Dataset(f\"{project_id}.{dataset}\")\n",
        "dataset_id.location = region\n",
        "resp = bq_client.create_dataset(dataset_id, exists_ok=True)\n",
        "print(\"Created dataset {}.{}\".format(bq_client.project, resp.dataset_id))"
      ],
      "metadata": {
        "id": "eCOsebVd2KrU",
        "outputId": "3a9c2c88-aae9-4708-e66b-22a12f29884a",
        "colab": {
          "base_uri": "https://localhost:8080/"
        }
      },
      "execution_count": null,
      "outputs": [
        {
          "output_type": "stream",
          "name": "stdout",
          "text": [
            "Created dataset saffatandsourik.formula1_raw\n"
          ]
        }
      ]
    },
    {
      "cell_type": "markdown",
      "source": [
        "### Common Functions"
      ],
      "metadata": {
        "id": "epqpnt425Ksk"
      }
    },
    {
      "cell_type": "code",
      "source": [
        "from google.cloud import bigquery\n",
        "\n",
        "project_id = \"saffatandsourik\"\n",
        "bucket = \"formula1-ss\"\n",
        "parent_folder = \"initial-loads\"\n",
        "region = \"us-central1\"\n",
        "dataset = \"formula1_raw\"\n",
        "\n",
        "bq_client = bigquery.Client()\n",
        "\n",
        "def create_load_table_from_csv(folder, file_name, table, schema, delimiter=\",\", quote_character=\"\\\"\"):\n",
        "\n",
        "  uri = f\"gs://{bucket}/{parent_folder}/{folder}/{file_name}\"\n",
        "  table_id = f\"{project_id}.{dataset}.{table}\"\n",
        "\n",
        "  table = bigquery.Table(table_id, schema=schema)\n",
        "  table = bq_client.create_table(table, exists_ok=True)\n",
        "  print(\"Created table {}\".format(table.table_id))\n",
        "\n",
        "  # remove the data_source and load_time fields before loading the data,\n",
        "  # neither one is present in the csv\n",
        "  del schema[-1]\n",
        "  del schema[-1]\n",
        "  print(schema)\n",
        "\n",
        "  job_config = bigquery.LoadJobConfig(\n",
        "        schema=schema,\n",
        "        skip_leading_rows=1,\n",
        "        source_format=bigquery.SourceFormat.CSV,\n",
        "        write_disposition=bigquery.WriteDisposition.WRITE_APPEND,\n",
        "        field_delimiter=delimiter,\n",
        "        quote_character=quote_character,\n",
        "        allow_jagged_rows=True,\n",
        "        ignore_unknown_values=True\n",
        "      )\n",
        "\n",
        "  load_job = bq_client.load_table_from_uri(uri, table_id, job_config=job_config)\n",
        "  load_job.result()\n",
        "\n",
        "  destination_table = bq_client.get_table(table_id)\n",
        "  print(\"Loaded {} rows.\".format(destination_table.num_rows))\n",
        "\n",
        "\n",
        "def create_load_table_from_json(folder, file_name, table, schema):\n",
        "\n",
        "  table_id = f\"{project_id}.{dataset}.{table}\"\n",
        "\n",
        "  table = bigquery.Table(table_id, schema=schema)\n",
        "  table = bq_client.create_table(table, exists_ok=True)\n",
        "  print(\"Created table {}\".format(table.table_id))\n",
        "\n",
        "  # remove the data_source and load_time fields before loading the data,\n",
        "  # neither one is present in the json\n",
        "  del schema[-1]\n",
        "  del schema[-1]\n",
        "\n",
        "  #print(schema)\n",
        "\n",
        "  job_config = bigquery.LoadJobConfig(schema=schema,\n",
        "      source_format=bigquery.SourceFormat.NEWLINE_DELIMITED_JSON,\n",
        "      write_disposition = \"WRITE_EMPTY\"\n",
        "  )\n",
        "\n",
        "  uri = f\"gs://{bucket}/{parent_folder}/{folder}/{file_name}\"\n",
        "\n",
        "  load_job = bq_client.load_table_from_uri(\n",
        "      uri,\n",
        "      table_id,\n",
        "      location=region,\n",
        "      job_config=job_config,\n",
        "  )\n",
        "\n",
        "  load_job.result()\n",
        "\n",
        "  destination_table = bq_client.get_table(table_id)\n",
        "  print(\"Loaded {} rows.\".format(destination_table.num_rows))\n"
      ],
      "metadata": {
        "id": "FWCx1Kby5Nc7"
      },
      "execution_count": null,
      "outputs": []
    },
    {
      "cell_type": "markdown",
      "source": [
        "### Create and load OpenF1 tables"
      ],
      "metadata": {
        "id": "4yphFEDl3KKz"
      }
    },
    {
      "cell_type": "code",
      "source": [
        "folder = \"openf1\"\n",
        "file_name = \"drivers.csv\"\n",
        "table = \"drivers_openf1\"\n",
        "delimiter = \",\"\n",
        "\n",
        "schema = [\n",
        "    bigquery.SchemaField(\"driver_number\", \"INTEGER\", mode=\"NULLABLE\"),\n",
        "    bigquery.SchemaField(\"broadcast_name\", \"STRING\", mode=\"REQUIRED\"),\n",
        "    bigquery.SchemaField(\"full_name\", \"STRING\", mode=\"REQUIRED\"),\n",
        "    bigquery.SchemaField(\"name_acronym\", \"STRING\", mode=\"REQUIRED\"),\n",
        "    bigquery.SchemaField(\"team_name\", \"STRING\", mode=\"NULLABLE\"),\n",
        "    bigquery.SchemaField(\"team_colour\", \"STRING\", mode=\"NULLABLE\"),\n",
        "    bigquery.SchemaField(\"first_name\", \"STRING\", mode=\"NULLABLE\"),\n",
        "    bigquery.SchemaField(\"last_name\", \"STRING\", mode=\"NULLABLE\"),\n",
        "    bigquery.SchemaField(\"headshot_url\", \"STRING\", mode=\"NULLABLE\"),\n",
        "    bigquery.SchemaField(\"country_code\", \"STRING\", mode=\"NULLABLE\"),\n",
        "    bigquery.SchemaField(\"session_key\", \"INTEGER\", mode=\"NULLABLE\"),\n",
        "    bigquery.SchemaField(\"meeting_key\", \"INTEGER\", mode=\"REQUIRED\"),\n",
        "    bigquery.SchemaField(\"_data_source\", \"STRING\", mode=\"REQUIRED\", default_value_expression=\"'openf1'\"),\n",
        "    bigquery.SchemaField(\"_load_time\", \"TIMESTAMP\", mode=\"REQUIRED\", default_value_expression=\"CURRENT_TIMESTAMP\"),\n",
        "]\n",
        "\n",
        "\n",
        "create_load_table_from_csv(folder, file_name, table, schema, delimiter)"
      ],
      "metadata": {
        "colab": {
          "base_uri": "https://localhost:8080/"
        },
        "id": "BhlJu3634Dua",
        "outputId": "36284bb2-feb4-4871-d1a0-c8e4896c2c41"
      },
      "execution_count": null,
      "outputs": [
        {
          "output_type": "stream",
          "name": "stdout",
          "text": [
            "Created table drivers_openf1\n",
            "[SchemaField('driver_number', 'INTEGER', 'NULLABLE', None, None, (), None), SchemaField('broadcast_name', 'STRING', 'REQUIRED', None, None, (), None), SchemaField('full_name', 'STRING', 'REQUIRED', None, None, (), None), SchemaField('name_acronym', 'STRING', 'REQUIRED', None, None, (), None), SchemaField('team_name', 'STRING', 'NULLABLE', None, None, (), None), SchemaField('team_colour', 'STRING', 'NULLABLE', None, None, (), None), SchemaField('first_name', 'STRING', 'NULLABLE', None, None, (), None), SchemaField('last_name', 'STRING', 'NULLABLE', None, None, (), None), SchemaField('headshot_url', 'STRING', 'NULLABLE', None, None, (), None), SchemaField('country_code', 'STRING', 'NULLABLE', None, None, (), None), SchemaField('session_key', 'INTEGER', 'NULLABLE', None, None, (), None), SchemaField('meeting_key', 'INTEGER', 'REQUIRED', None, None, (), None)]\n",
            "Loaded 27858 rows.\n"
          ]
        }
      ]
    },
    {
      "cell_type": "code",
      "source": [
        "folder = \"openf1\"\n",
        "file_name = \"meetings.csv\"\n",
        "table = \"meetings\"\n",
        "delimiter = \",\"\n",
        "\n",
        "schema = [\n",
        "    bigquery.SchemaField(\"meeting_name\", \"STRING\", mode=\"REQUIRED\"),\n",
        "    bigquery.SchemaField(\"meeting_official_name\", \"STRING\", mode=\"REQUIRED\"),\n",
        "    bigquery.SchemaField(\"location\", \"STRING\", mode=\"REQUIRED\"),\n",
        "    bigquery.SchemaField(\"country_key\", \"INTEGER\", mode=\"REQUIRED\"),\n",
        "    bigquery.SchemaField(\"country_code\", \"STRING\", mode=\"REQUIRED\"),\n",
        "    bigquery.SchemaField(\"country_name\", \"STRING\", mode=\"REQUIRED\"),\n",
        "    bigquery.SchemaField(\"circuit_key\", \"INTEGER\", mode=\"REQUIRED\"),\n",
        "    bigquery.SchemaField(\"circuit_short_name\", \"STRING\", mode=\"REQUIRED\"),\n",
        "    bigquery.SchemaField(\"date_start\", \"STRING\", mode=\"REQUIRED\"),\n",
        "    bigquery.SchemaField(\"gmt_offset\", \"STRING\", mode=\"REQUIRED\"),\n",
        "    bigquery.SchemaField(\"meeting_key\", \"INTEGER\", mode=\"REQUIRED\"),\n",
        "    bigquery.SchemaField(\"year\", \"INTEGER\", mode=\"REQUIRED\"),\n",
        "    bigquery.SchemaField(\"meeting_code\", \"STRING\", mode=\"NULLABLE\"),\n",
        "    bigquery.SchemaField(\"_data_source\", \"STRING\", mode=\"REQUIRED\", default_value_expression=\"'openf1'\"),\n",
        "    bigquery.SchemaField(\"_load_time\", \"TIMESTAMP\", mode=\"REQUIRED\", default_value_expression=\"CURRENT_TIMESTAMP\"),\n",
        "]\n",
        "\n",
        "\n",
        "\n",
        "create_load_table_from_csv(folder, file_name, table, schema, delimiter)"
      ],
      "metadata": {
        "colab": {
          "base_uri": "https://localhost:8080/"
        },
        "id": "HVaFZW0T_KRy",
        "outputId": "2df6d83e-9a6b-40b3-803e-1933a336f8f7"
      },
      "execution_count": null,
      "outputs": [
        {
          "output_type": "stream",
          "name": "stdout",
          "text": [
            "Created table meetings\n",
            "[SchemaField('meeting_name', 'STRING', 'REQUIRED', None, None, (), None), SchemaField('meeting_official_name', 'STRING', 'REQUIRED', None, None, (), None), SchemaField('location', 'STRING', 'REQUIRED', None, None, (), None), SchemaField('country_key', 'INTEGER', 'REQUIRED', None, None, (), None), SchemaField('country_code', 'STRING', 'REQUIRED', None, None, (), None), SchemaField('country_name', 'STRING', 'REQUIRED', None, None, (), None), SchemaField('circuit_key', 'INTEGER', 'REQUIRED', None, None, (), None), SchemaField('circuit_short_name', 'STRING', 'REQUIRED', None, None, (), None), SchemaField('date_start', 'STRING', 'REQUIRED', None, None, (), None), SchemaField('gmt_offset', 'STRING', 'REQUIRED', None, None, (), None), SchemaField('meeting_key', 'INTEGER', 'REQUIRED', None, None, (), None), SchemaField('year', 'INTEGER', 'REQUIRED', None, None, (), None), SchemaField('meeting_code', 'STRING', 'NULLABLE', None, None, (), None)]\n",
            "Loaded 282 rows.\n"
          ]
        }
      ]
    },
    {
      "cell_type": "code",
      "source": [
        "folder = \"openf1\"\n",
        "file_name = \"pit.csv\"\n",
        "table = \"pit\"\n",
        "delimiter = \",\"\n",
        "\n",
        "schema = [\n",
        "    bigquery.SchemaField(\"pit_duration\", \"FLOAT\", mode=\"NULLABLE\"),\n",
        "    bigquery.SchemaField(\"lap_number\", \"FLOAT\", mode=\"NULLABLE\"),\n",
        "    bigquery.SchemaField(\"driver_number\", \"INTEGER\", mode=\"REQUIRED\"),\n",
        "    bigquery.SchemaField(\"date\", \"STRING\", mode=\"REQUIRED\"),\n",
        "    bigquery.SchemaField(\"session_key\", \"INTEGER\", mode=\"REQUIRED\"),\n",
        "    bigquery.SchemaField(\"meeting_key\", \"INTEGER\", mode=\"REQUIRED\"),\n",
        "    bigquery.SchemaField(\"_data_source\", \"STRING\", mode=\"REQUIRED\", default_value_expression=\"'openf1'\"),\n",
        "    bigquery.SchemaField(\"_load_time\", \"TIMESTAMP\", mode=\"REQUIRED\", default_value_expression=\"CURRENT_TIMESTAMP\"),\n",
        "]\n",
        "\n",
        "create_load_table_from_csv(folder, file_name, table, schema, delimiter)"
      ],
      "metadata": {
        "id": "oLLf0JfT530x",
        "colab": {
          "base_uri": "https://localhost:8080/"
        },
        "outputId": "d98f983a-33c8-473c-87c9-1367c0002b3e"
      },
      "execution_count": null,
      "outputs": [
        {
          "output_type": "stream",
          "name": "stdout",
          "text": [
            "Created table pit\n",
            "[SchemaField('pit_duration', 'FLOAT', 'NULLABLE', None, None, (), None), SchemaField('lap_number', 'FLOAT', 'NULLABLE', None, None, (), None), SchemaField('driver_number', 'INTEGER', 'REQUIRED', None, None, (), None), SchemaField('date', 'STRING', 'REQUIRED', None, None, (), None), SchemaField('session_key', 'INTEGER', 'REQUIRED', None, None, (), None), SchemaField('meeting_key', 'INTEGER', 'REQUIRED', None, None, (), None)]\n",
            "Loaded 73236 rows.\n"
          ]
        }
      ]
    },
    {
      "cell_type": "code",
      "source": [
        "folder = \"openf1\"\n",
        "file_name = \"sessions.csv\"\n",
        "table = \"sessions\"\n",
        "delimiter = \",\"\n",
        "\n",
        "schema = [\n",
        "    bigquery.SchemaField(\"location\", \"STRING\", mode=\"REQUIRED\"),\n",
        "    bigquery.SchemaField(\"country_key\", \"INTEGER\", mode=\"REQUIRED\"),\n",
        "    bigquery.SchemaField(\"country_code\", \"STRING\", mode=\"REQUIRED\"),\n",
        "    bigquery.SchemaField(\"country_name\", \"STRING\", mode=\"REQUIRED\"),\n",
        "    bigquery.SchemaField(\"circuit_key\", \"INTEGER\", mode=\"REQUIRED\"),\n",
        "    bigquery.SchemaField(\"circuit_short_name\", \"STRING\", mode=\"REQUIRED\"),\n",
        "    bigquery.SchemaField(\"session_type\", \"STRING\", mode=\"REQUIRED\"),\n",
        "    bigquery.SchemaField(\"session_name\", \"STRING\", mode=\"REQUIRED\"),\n",
        "    bigquery.SchemaField(\"date_start\", \"STRING\", mode=\"REQUIRED\"),\n",
        "    bigquery.SchemaField(\"date_end\", \"STRING\", mode=\"REQUIRED\"),\n",
        "    bigquery.SchemaField(\"gmt_offset\", \"STRING\", mode=\"REQUIRED\"),\n",
        "    bigquery.SchemaField(\"session_key\", \"INTEGER\", mode=\"REQUIRED\"),\n",
        "    bigquery.SchemaField(\"meeting_key\", \"INTEGER\", mode=\"REQUIRED\"),\n",
        "    bigquery.SchemaField(\"year\", \"INTEGER\", mode=\"REQUIRED\"),\n",
        "    bigquery.SchemaField(\"_data_source\", \"STRING\", mode=\"REQUIRED\", default_value_expression=\"'openf1'\"),\n",
        "    bigquery.SchemaField(\"_load_time\", \"TIMESTAMP\", mode=\"REQUIRED\", default_value_expression=\"CURRENT_TIMESTAMP\"),\n",
        "]\n",
        "\n",
        "create_load_table_from_csv(folder, file_name, table, schema, delimiter)"
      ],
      "metadata": {
        "colab": {
          "base_uri": "https://localhost:8080/"
        },
        "id": "QIZfW2oYBPWu",
        "outputId": "8dfbc4ab-ea0e-44c7-d1ef-dae633cb60f8"
      },
      "execution_count": null,
      "outputs": [
        {
          "output_type": "stream",
          "name": "stdout",
          "text": [
            "Created table sessions\n",
            "[SchemaField('location', 'STRING', 'REQUIRED', None, None, (), None), SchemaField('country_key', 'INTEGER', 'REQUIRED', None, None, (), None), SchemaField('country_code', 'STRING', 'REQUIRED', None, None, (), None), SchemaField('country_name', 'STRING', 'REQUIRED', None, None, (), None), SchemaField('circuit_key', 'INTEGER', 'REQUIRED', None, None, (), None), SchemaField('circuit_short_name', 'STRING', 'REQUIRED', None, None, (), None), SchemaField('session_type', 'STRING', 'REQUIRED', None, None, (), None), SchemaField('session_name', 'STRING', 'REQUIRED', None, None, (), None), SchemaField('date_start', 'STRING', 'REQUIRED', None, None, (), None), SchemaField('date_end', 'STRING', 'REQUIRED', None, None, (), None), SchemaField('gmt_offset', 'STRING', 'REQUIRED', None, None, (), None), SchemaField('session_key', 'INTEGER', 'REQUIRED', None, None, (), None), SchemaField('meeting_key', 'INTEGER', 'REQUIRED', None, None, (), None), SchemaField('year', 'INTEGER', 'REQUIRED', None, None, (), None)]\n",
            "Loaded 1392 rows.\n"
          ]
        }
      ]
    },
    {
      "cell_type": "code",
      "source": [
        "folder = \"openf1\"\n",
        "file_name = \"laps.csv\"\n",
        "table = \"laps\"\n",
        "delimiter = \",\"\n",
        "\n",
        "schema = [\n",
        "    bigquery.SchemaField(\"meeting_key\", \"INTEGER\", mode=\"REQUIRED\"),\n",
        "    bigquery.SchemaField(\"session_key\", \"INTEGER\", mode=\"REQUIRED\"),\n",
        "    bigquery.SchemaField(\"driver_number\", \"INTEGER\", mode=\"REQUIRED\"),\n",
        "    bigquery.SchemaField(\"i1_speed\", \"FLOAT\", mode=\"NULLABLE\"),\n",
        "    bigquery.SchemaField(\"i2_speed\", \"FLOAT\", mode=\"NULLABLE\"),\n",
        "    bigquery.SchemaField(\"st_speed\", \"FLOAT\", mode=\"NULLABLE\"),\n",
        "    bigquery.SchemaField(\"date_start\", \"STRING\", mode=\"NULLABLE\"),\n",
        "    bigquery.SchemaField(\"lap_duration\", \"FLOAT\", mode=\"NULLABLE\"),\n",
        "    bigquery.SchemaField(\"is_pit_out_lap\", \"BOOLEAN\", mode=\"REQUIRED\"),\n",
        "    bigquery.SchemaField(\"duration_sector_1\", \"FLOAT\", mode=\"NULLABLE\"),\n",
        "    bigquery.SchemaField(\"duration_sector_2\", \"FLOAT\", mode=\"NULLABLE\"),\n",
        "    bigquery.SchemaField(\"duration_sector_3\", \"FLOAT\", mode=\"NULLABLE\"),\n",
        "    bigquery.SchemaField(\"segments_sector_1\", \"STRING\", mode=\"REQUIRED\"),\n",
        "    bigquery.SchemaField(\"segments_sector_2\", \"STRING\", mode=\"REQUIRED\"),\n",
        "    bigquery.SchemaField(\"segments_sector_3\", \"STRING\", mode=\"REQUIRED\"),\n",
        "    bigquery.SchemaField(\"lap_number\", \"INTEGER\", mode=\"REQUIRED\"),\n",
        "    bigquery.SchemaField(\"_data_source\", \"STRING\", mode=\"REQUIRED\", default_value_expression=\"'openf1'\"),\n",
        "    bigquery.SchemaField(\"_load_time\", \"TIMESTAMP\", mode=\"REQUIRED\", default_value_expression=\"CURRENT_TIMESTAMP\"),\n",
        "]\n",
        "\n",
        "\n",
        "create_load_table_from_csv(folder, file_name, table, schema, delimiter)"
      ],
      "metadata": {
        "colab": {
          "base_uri": "https://localhost:8080/"
        },
        "id": "0gmFcTcjDfSm",
        "outputId": "66e161d3-a502-42e6-b844-e7fc9be43fea"
      },
      "execution_count": null,
      "outputs": [
        {
          "output_type": "stream",
          "name": "stdout",
          "text": [
            "Created table laps\n",
            "[SchemaField('meeting_key', 'INTEGER', 'REQUIRED', None, None, (), None), SchemaField('session_key', 'INTEGER', 'REQUIRED', None, None, (), None), SchemaField('driver_number', 'INTEGER', 'REQUIRED', None, None, (), None), SchemaField('i1_speed', 'FLOAT', 'NULLABLE', None, None, (), None), SchemaField('i2_speed', 'FLOAT', 'NULLABLE', None, None, (), None), SchemaField('st_speed', 'FLOAT', 'NULLABLE', None, None, (), None), SchemaField('date_start', 'STRING', 'NULLABLE', None, None, (), None), SchemaField('lap_duration', 'FLOAT', 'NULLABLE', None, None, (), None), SchemaField('is_pit_out_lap', 'BOOLEAN', 'REQUIRED', None, None, (), None), SchemaField('duration_sector_1', 'FLOAT', 'NULLABLE', None, None, (), None), SchemaField('duration_sector_2', 'FLOAT', 'NULLABLE', None, None, (), None), SchemaField('duration_sector_3', 'FLOAT', 'NULLABLE', None, None, (), None), SchemaField('segments_sector_1', 'STRING', 'REQUIRED', None, None, (), None), SchemaField('segments_sector_2', 'STRING', 'REQUIRED', None, None, (), None), SchemaField('segments_sector_3', 'STRING', 'REQUIRED', None, None, (), None), SchemaField('lap_number', 'INTEGER', 'REQUIRED', None, None, (), None)]\n",
            "Loaded 879928 rows.\n"
          ]
        }
      ]
    },
    {
      "cell_type": "markdown",
      "source": [
        "### Create and load Ergast tables"
      ],
      "metadata": {
        "id": "Z8s-mKQkBr1U"
      }
    },
    {
      "cell_type": "code",
      "source": [
        "folder = \"ergast\"\n",
        "file_name = \"lap_times.csv\"\n",
        "table = \"ergast_lap_times\"\n",
        "delimiter = \",\"\n",
        "\n",
        "schema = [\n",
        "    bigquery.SchemaField(\"Year\", \"INTEGER\", mode=\"REQUIRED\"),\n",
        "    bigquery.SchemaField(\"Round\", \"INTEGER\", mode=\"REQUIRED\"),\n",
        "    bigquery.SchemaField(\"Race Name\", \"STRING\", mode=\"REQUIRED\"),\n",
        "    bigquery.SchemaField(\"Circuit Name\", \"STRING\", mode=\"REQUIRED\"),\n",
        "    bigquery.SchemaField(\"Location\", \"STRING\", mode=\"REQUIRED\"),\n",
        "    bigquery.SchemaField(\"Country\", \"STRING\", mode=\"REQUIRED\"),\n",
        "    bigquery.SchemaField(\"Race Date\", \"DATE\", mode=\"REQUIRED\"),\n",
        "    bigquery.SchemaField(\"Lap Number\", \"INTEGER\", mode=\"REQUIRED\"),\n",
        "    bigquery.SchemaField(\"Driver ID\", \"STRING\", mode=\"REQUIRED\"),\n",
        "    bigquery.SchemaField(\"Position\", \"INTEGER\", mode=\"REQUIRED\"),\n",
        "    bigquery.SchemaField(\"Lap Time\", \"STRING\", mode=\"REQUIRED\"),\n",
        "    bigquery.SchemaField(\"_data_source\", \"STRING\", mode=\"REQUIRED\", default_value_expression=\"'ergast'\"),\n",
        "    bigquery.SchemaField(\"_load_time\", \"TIMESTAMP\", mode=\"REQUIRED\", default_value_expression=\"CURRENT_TIMESTAMP\"),\n",
        "]\n",
        "\n",
        "\n",
        "\n",
        "create_load_table_from_csv(folder, file_name, table, schema, delimiter)\n"
      ],
      "metadata": {
        "colab": {
          "base_uri": "https://localhost:8080/"
        },
        "id": "LRL56cTyGLSM",
        "outputId": "c2c221d2-4843-4a1d-862c-23852b66cd0a"
      },
      "execution_count": null,
      "outputs": [
        {
          "output_type": "stream",
          "name": "stdout",
          "text": [
            "Created table ergast_lap_times\n",
            "[SchemaField('Year', 'INTEGER', 'REQUIRED', None, None, (), None), SchemaField('Round', 'INTEGER', 'REQUIRED', None, None, (), None), SchemaField('Race Name', 'STRING', 'REQUIRED', None, None, (), None), SchemaField('Circuit Name', 'STRING', 'REQUIRED', None, None, (), None), SchemaField('Location', 'STRING', 'REQUIRED', None, None, (), None), SchemaField('Country', 'STRING', 'REQUIRED', None, None, (), None), SchemaField('Race Date', 'DATE', 'REQUIRED', None, None, (), None), SchemaField('Lap Number', 'INTEGER', 'REQUIRED', None, None, (), None), SchemaField('Driver ID', 'STRING', 'REQUIRED', None, None, (), None), SchemaField('Position', 'INTEGER', 'REQUIRED', None, None, (), None), SchemaField('Lap Time', 'STRING', 'REQUIRED', None, None, (), None)]\n",
            "Loaded 17064 rows.\n"
          ]
        }
      ]
    },
    {
      "cell_type": "code",
      "source": [
        "folder = \"ergast\"\n",
        "file_name = \"ergast_race_results.csv\"\n",
        "table = \"race_results\"\n",
        "delimiter = \",\"\n",
        "\n",
        "schema = [\n",
        "    bigquery.SchemaField(\"season\", \"INTEGER\", mode=\"REQUIRED\"),\n",
        "    bigquery.SchemaField(\"round\", \"INTEGER\", mode=\"REQUIRED\"),\n",
        "    bigquery.SchemaField(\"race_name\", \"STRING\", mode=\"REQUIRED\"),\n",
        "    bigquery.SchemaField(\"date\", \"STRING\", mode=\"REQUIRED\"),\n",
        "    bigquery.SchemaField(\"time\", \"STRING\", mode=\"REQUIRED\"),\n",
        "    bigquery.SchemaField(\"circuit\", \"STRING\", mode=\"REQUIRED\"),\n",
        "    bigquery.SchemaField(\"circuit_id\", \"STRING\", mode=\"REQUIRED\"),\n",
        "    bigquery.SchemaField(\"location\", \"STRING\", mode=\"REQUIRED\"),\n",
        "    bigquery.SchemaField(\"country\", \"STRING\", mode=\"REQUIRED\"),\n",
        "    bigquery.SchemaField(\"number\", \"INTEGER\", mode=\"REQUIRED\"),\n",
        "    bigquery.SchemaField(\"position\", \"INTEGER\", mode=\"REQUIRED\"),\n",
        "    bigquery.SchemaField(\"position_text\", \"STRING\", mode=\"REQUIRED\"),\n",
        "    bigquery.SchemaField(\"points\", \"INTEGER\", mode=\"REQUIRED\"),\n",
        "    bigquery.SchemaField(\"laps\", \"INTEGER\", mode=\"REQUIRED\"),\n",
        "    bigquery.SchemaField(\"status\", \"STRING\", mode=\"REQUIRED\"),\n",
        "    bigquery.SchemaField(\"driver\", \"STRING\", mode=\"REQUIRED\"),\n",
        "    bigquery.SchemaField(\"permanent_number\", \"INTEGER\", mode=\"REQUIRED\"),\n",
        "    bigquery.SchemaField(\"code\", \"STRING\", mode=\"REQUIRED\"),\n",
        "    bigquery.SchemaField(\"given_name\", \"STRING\", mode=\"REQUIRED\"),\n",
        "    bigquery.SchemaField(\"family_name\", \"STRING\", mode=\"REQUIRED\"),\n",
        "    bigquery.SchemaField(\"date_of_birth\", \"STRING\", mode=\"REQUIRED\"),\n",
        "    bigquery.SchemaField(\"nationality\", \"STRING\", mode=\"REQUIRED\"),\n",
        "    bigquery.SchemaField(\"constructor\", \"STRING\", mode=\"REQUIRED\"),\n",
        "    bigquery.SchemaField(\"constructor_name\", \"STRING\", mode=\"REQUIRED\"),\n",
        "    bigquery.SchemaField(\"constructor_nationality\", \"STRING\", mode=\"REQUIRED\"),\n",
        "    bigquery.SchemaField(\"grid\", \"INTEGER\", mode=\"REQUIRED\"),\n",
        "    bigquery.SchemaField(\"total_time\", \"STRING\", mode=\"NULLABLE\"),  # Some missing values\n",
        "    bigquery.SchemaField(\"fastest_lap_rank\", \"FLOAT\", mode=\"NULLABLE\"),  # Some missing values\n",
        "    bigquery.SchemaField(\"fastest_lap_lap\", \"FLOAT\", mode=\"NULLABLE\"),  # Some missing values\n",
        "    bigquery.SchemaField(\"fastest_lap_time\", \"STRING\", mode=\"NULLABLE\"),  # Some missing values\n",
        "    bigquery.SchemaField(\"fastest_lap_speed\", \"FLOAT\", mode=\"NULLABLE\"),  # Some missing values\n",
        "    bigquery.SchemaField(\"_data_source\", \"STRING\", mode=\"REQUIRED\", default_value_expression=\"'ergast'\"),\n",
        "    bigquery.SchemaField(\"_load_time\", \"TIMESTAMP\", mode=\"REQUIRED\", default_value_expression=\"CURRENT_TIMESTAMP\"),\n",
        "]\n",
        "\n",
        "\n",
        "\n",
        "\n",
        "\n",
        "\n",
        "create_load_table_from_csv(folder, file_name, table, schema, delimiter)\n"
      ],
      "metadata": {
        "colab": {
          "base_uri": "https://localhost:8080/"
        },
        "id": "FZmHtz_jJmym",
        "outputId": "3322d75e-4266-425e-a0dd-b5550292a1a1"
      },
      "execution_count": null,
      "outputs": [
        {
          "output_type": "stream",
          "name": "stdout",
          "text": [
            "Created table race_results\n",
            "[SchemaField('season', 'INTEGER', 'REQUIRED', None, None, (), None), SchemaField('round', 'INTEGER', 'REQUIRED', None, None, (), None), SchemaField('race_name', 'STRING', 'REQUIRED', None, None, (), None), SchemaField('date', 'STRING', 'REQUIRED', None, None, (), None), SchemaField('time', 'STRING', 'REQUIRED', None, None, (), None), SchemaField('circuit', 'STRING', 'REQUIRED', None, None, (), None), SchemaField('circuit_id', 'STRING', 'REQUIRED', None, None, (), None), SchemaField('location', 'STRING', 'REQUIRED', None, None, (), None), SchemaField('country', 'STRING', 'REQUIRED', None, None, (), None), SchemaField('number', 'INTEGER', 'REQUIRED', None, None, (), None), SchemaField('position', 'INTEGER', 'REQUIRED', None, None, (), None), SchemaField('position_text', 'STRING', 'REQUIRED', None, None, (), None), SchemaField('points', 'INTEGER', 'REQUIRED', None, None, (), None), SchemaField('laps', 'INTEGER', 'REQUIRED', None, None, (), None), SchemaField('status', 'STRING', 'REQUIRED', None, None, (), None), SchemaField('driver', 'STRING', 'REQUIRED', None, None, (), None), SchemaField('permanent_number', 'INTEGER', 'REQUIRED', None, None, (), None), SchemaField('code', 'STRING', 'REQUIRED', None, None, (), None), SchemaField('given_name', 'STRING', 'REQUIRED', None, None, (), None), SchemaField('family_name', 'STRING', 'REQUIRED', None, None, (), None), SchemaField('date_of_birth', 'STRING', 'REQUIRED', None, None, (), None), SchemaField('nationality', 'STRING', 'REQUIRED', None, None, (), None), SchemaField('constructor', 'STRING', 'REQUIRED', None, None, (), None), SchemaField('constructor_name', 'STRING', 'REQUIRED', None, None, (), None), SchemaField('constructor_nationality', 'STRING', 'REQUIRED', None, None, (), None), SchemaField('grid', 'INTEGER', 'REQUIRED', None, None, (), None), SchemaField('total_time', 'STRING', 'NULLABLE', None, None, (), None), SchemaField('fastest_lap_rank', 'FLOAT', 'NULLABLE', None, None, (), None), SchemaField('fastest_lap_lap', 'FLOAT', 'NULLABLE', None, None, (), None), SchemaField('fastest_lap_time', 'STRING', 'NULLABLE', None, None, (), None), SchemaField('fastest_lap_speed', 'FLOAT', 'NULLABLE', None, None, (), None)]\n",
            "Loaded 800 rows.\n"
          ]
        }
      ]
    },
    {
      "cell_type": "code",
      "source": [
        "folder = \"ergast\"\n",
        "file_name = \"drivers.csv\"  # Ensure correct file name\n",
        "table = \"ergast_drivers\"\n",
        "delimiter = \",\"\n",
        "\n",
        "schema = [\n",
        "    bigquery.SchemaField(\"year\", \"INTEGER\", mode=\"REQUIRED\"),\n",
        "    bigquery.SchemaField(\"driver_id\", \"STRING\", mode=\"REQUIRED\"),\n",
        "    bigquery.SchemaField(\"permanent_number\", \"INTEGER\", mode=\"NULLABLE\"),\n",
        "    bigquery.SchemaField(\"code\", \"STRING\", mode=\"NULLABLE\"),\n",
        "    bigquery.SchemaField(\"given_name\", \"STRING\", mode=\"REQUIRED\"),\n",
        "    bigquery.SchemaField(\"family_name\", \"STRING\", mode=\"REQUIRED\"),\n",
        "    bigquery.SchemaField(\"date_of_birth\", \"DATE\", mode=\"REQUIRED\"),\n",
        "    bigquery.SchemaField(\"nationality\", \"STRING\", mode=\"REQUIRED\"),\n",
        "    bigquery.SchemaField(\"wikipedia_url\", \"STRING\", mode=\"NULLABLE\"),\n",
        "    bigquery.SchemaField(\"_data_source\", \"STRING\", mode=\"REQUIRED\", default_value_expression=\"'ergast'\"),\n",
        "    bigquery.SchemaField(\"_load_time\", \"TIMESTAMP\", mode=\"REQUIRED\", default_value_expression=\"CURRENT_TIMESTAMP\"),\n",
        "]\n",
        "\n",
        "\n",
        "\n",
        "create_load_table_from_csv(folder, file_name, table, schema, delimiter)\n",
        "\n"
      ],
      "metadata": {
        "id": "tbW51bvNKXmm",
        "colab": {
          "base_uri": "https://localhost:8080/"
        },
        "outputId": "74de8ae7-8acb-4c26-92da-b084602b153e"
      },
      "execution_count": null,
      "outputs": [
        {
          "output_type": "stream",
          "name": "stdout",
          "text": [
            "Created table ergast_drivers\n",
            "[SchemaField('year', 'INTEGER', 'REQUIRED', None, None, (), None), SchemaField('driver_id', 'STRING', 'REQUIRED', None, None, (), None), SchemaField('permanent_number', 'INTEGER', 'NULLABLE', None, None, (), None), SchemaField('code', 'STRING', 'NULLABLE', None, None, (), None), SchemaField('given_name', 'STRING', 'REQUIRED', None, None, (), None), SchemaField('family_name', 'STRING', 'REQUIRED', None, None, (), None), SchemaField('date_of_birth', 'DATE', 'REQUIRED', None, None, (), None), SchemaField('nationality', 'STRING', 'REQUIRED', None, None, (), None), SchemaField('wikipedia_url', 'STRING', 'NULLABLE', None, None, (), None)]\n",
            "Loaded 184 rows.\n"
          ]
        }
      ]
    },
    {
      "cell_type": "code",
      "source": [
        "folder = \"ergast\"\n",
        "file_name = \"qualifying_results.csv\"\n",
        "table = \"qualifying_results\"\n",
        "delimiter = \",\"\n",
        "\n",
        "schema = [\n",
        "    bigquery.SchemaField(\"year\", \"INTEGER\", mode=\"REQUIRED\"),\n",
        "    bigquery.SchemaField(\"round\", \"INTEGER\", mode=\"REQUIRED\"),\n",
        "    bigquery.SchemaField(\"race_name\", \"STRING\", mode=\"REQUIRED\"),\n",
        "    bigquery.SchemaField(\"circuit_name\", \"STRING\", mode=\"REQUIRED\"),\n",
        "    bigquery.SchemaField(\"date\", \"DATE\", mode=\"REQUIRED\"),\n",
        "    bigquery.SchemaField(\"position\", \"INTEGER\", mode=\"REQUIRED\"),\n",
        "    bigquery.SchemaField(\"driver_name\", \"STRING\", mode=\"REQUIRED\"),\n",
        "    bigquery.SchemaField(\"driver_nationality\", \"STRING\", mode=\"REQUIRED\"),\n",
        "    bigquery.SchemaField(\"constructor_name\", \"STRING\", mode=\"REQUIRED\"),\n",
        "    bigquery.SchemaField(\"constructor_nationality\", \"STRING\", mode=\"REQUIRED\"),\n",
        "    bigquery.SchemaField(\"q1_time\", \"STRING\", mode=\"NULLABLE\"),\n",
        "    bigquery.SchemaField(\"q2_time\", \"STRING\", mode=\"NULLABLE\"),\n",
        "    bigquery.SchemaField(\"q3_time\", \"STRING\", mode=\"NULLABLE\"),\n",
        "    bigquery.SchemaField(\"_data_source\", \"STRING\", mode=\"REQUIRED\", default_value_expression=\"'openf1'\"),\n",
        "    bigquery.SchemaField(\"_load_time\", \"TIMESTAMP\", mode=\"REQUIRED\", default_value_expression=\"CURRENT_TIMESTAMP\"),\n",
        "]\n",
        "\n",
        "create_load_table_from_csv(folder, file_name, table, schema, delimiter)\n",
        "\n"
      ],
      "metadata": {
        "id": "49QWRRzQWtdb",
        "colab": {
          "base_uri": "https://localhost:8080/"
        },
        "outputId": "b9017d08-bc3c-4270-d6c2-fc4ca3a3fc58"
      },
      "execution_count": null,
      "outputs": [
        {
          "output_type": "stream",
          "name": "stdout",
          "text": [
            "Created table qualifying_results\n",
            "[SchemaField('year', 'INTEGER', 'REQUIRED', None, None, (), None), SchemaField('round', 'INTEGER', 'REQUIRED', None, None, (), None), SchemaField('race_name', 'STRING', 'REQUIRED', None, None, (), None), SchemaField('circuit_name', 'STRING', 'REQUIRED', None, None, (), None), SchemaField('date', 'DATE', 'REQUIRED', None, None, (), None), SchemaField('position', 'INTEGER', 'REQUIRED', None, None, (), None), SchemaField('driver_name', 'STRING', 'REQUIRED', None, None, (), None), SchemaField('driver_nationality', 'STRING', 'REQUIRED', None, None, (), None), SchemaField('constructor_name', 'STRING', 'REQUIRED', None, None, (), None), SchemaField('constructor_nationality', 'STRING', 'REQUIRED', None, None, (), None), SchemaField('q1_time', 'STRING', 'NULLABLE', None, None, (), None), SchemaField('q2_time', 'STRING', 'NULLABLE', None, None, (), None), SchemaField('q3_time', 'STRING', 'NULLABLE', None, None, (), None)]\n",
            "Loaded 3676 rows.\n"
          ]
        }
      ]
    },
    {
      "cell_type": "code",
      "source": [
        "folder = \"ergast\"\n",
        "file_name = \"races.csv\"\n",
        "table = \"ergast_races\"\n",
        "delimiter = \",\"\n",
        "\n",
        "schema = [\n",
        "    bigquery.SchemaField(\"race_id\", \"INTEGER\", mode=\"REQUIRED\"),\n",
        "    bigquery.SchemaField(\"year\", \"INTEGER\", mode=\"REQUIRED\"),\n",
        "    bigquery.SchemaField(\"round\", \"INTEGER\", mode=\"REQUIRED\"),\n",
        "    bigquery.SchemaField(\"circuit_id\", \"INTEGER\", mode=\"REQUIRED\"),\n",
        "    bigquery.SchemaField(\"name\", \"STRING\", mode=\"REQUIRED\"),\n",
        "    bigquery.SchemaField(\"date\", \"DATE\", mode=\"REQUIRED\"),\n",
        "    bigquery.SchemaField(\"time\", \"TIME\", mode=\"NULLABLE\"),\n",
        "    bigquery.SchemaField(\"url\", \"STRING\", mode=\"NULLABLE\"),\n",
        "    bigquery.SchemaField(\"fp1_date_time\", \"STRING\", mode=\"NULLABLE\"),\n",
        "    bigquery.SchemaField(\"fp2_date_time\", \"STRING\", mode=\"NULLABLE\"),\n",
        "    bigquery.SchemaField(\"fp3_date\", \"DATE\", mode=\"NULLABLE\"),\n",
        "    bigquery.SchemaField(\"fp3_time\", \"TIME\", mode=\"NULLABLE\"),\n",
        "    bigquery.SchemaField(\"quali_date\", \"DATE\", mode=\"NULLABLE\"),\n",
        "    bigquery.SchemaField(\"quali_time\", \"TIME\", mode=\"NULLABLE\"),\n",
        "    bigquery.SchemaField(\"sprint_date\", \"DATE\", mode=\"NULLABLE\"),\n",
        "    bigquery.SchemaField(\"sprint_time\", \"TIME\", mode=\"NULLABLE\"),\n",
        "    bigquery.SchemaField(\"_data_source\", \"STRING\", mode=\"REQUIRED\", default_value_expression=\"'ergast'\"),\n",
        "    bigquery.SchemaField(\"_load_time\", \"TIMESTAMP\", mode=\"REQUIRED\", default_value_expression=\"CURRENT_TIMESTAMP\"),\n",
        "]\n",
        "\n",
        "create_load_table_from_csv(folder, file_name, table, schema, delimiter)\n"
      ],
      "metadata": {
        "colab": {
          "base_uri": "https://localhost:8080/"
        },
        "id": "2BOMSjFNwoo-",
        "outputId": "f7fa3e19-b169-4638-c20c-8609a1b5c15c"
      },
      "execution_count": null,
      "outputs": [
        {
          "output_type": "stream",
          "name": "stdout",
          "text": [
            "Created table ergast_races\n",
            "[SchemaField('race_id', 'INTEGER', 'REQUIRED', None, None, (), None), SchemaField('year', 'INTEGER', 'REQUIRED', None, None, (), None), SchemaField('round', 'INTEGER', 'REQUIRED', None, None, (), None), SchemaField('circuit_id', 'INTEGER', 'REQUIRED', None, None, (), None), SchemaField('name', 'STRING', 'REQUIRED', None, None, (), None), SchemaField('date', 'DATE', 'REQUIRED', None, None, (), None), SchemaField('time', 'TIME', 'NULLABLE', None, None, (), None), SchemaField('url', 'STRING', 'NULLABLE', None, None, (), None), SchemaField('fp1_date_time', 'STRING', 'NULLABLE', None, None, (), None), SchemaField('fp2_date_time', 'STRING', 'NULLABLE', None, None, (), None), SchemaField('fp3_date', 'DATE', 'NULLABLE', None, None, (), None), SchemaField('fp3_time', 'TIME', 'NULLABLE', None, None, (), None), SchemaField('quali_date', 'DATE', 'NULLABLE', None, None, (), None), SchemaField('quali_time', 'TIME', 'NULLABLE', None, None, (), None), SchemaField('sprint_date', 'DATE', 'NULLABLE', None, None, (), None), SchemaField('sprint_time', 'TIME', 'NULLABLE', None, None, (), None)]\n",
            "Loaded 138 rows.\n"
          ]
        }
      ]
    },
    {
      "cell_type": "markdown",
      "source": [
        "### Create table for circuit unstructured data"
      ],
      "metadata": {
        "id": "nP0rV42foTPw"
      }
    },
    {
      "cell_type": "code",
      "source": [
        "from google.cloud import bigquery\n",
        "\n",
        "# Initialize BigQuery client\n",
        "bq_client = bigquery.Client()\n",
        "\n",
        "# Define BigQuery schema\n",
        "schema = [\n",
        "    bigquery.SchemaField(\"circuit_name\", \"STRING\"),\n",
        "    bigquery.SchemaField(\"city\", \"STRING\"),\n",
        "    bigquery.SchemaField(\"country\", \"STRING\"),\n",
        "    bigquery.SchemaField(\"latitude\", \"FLOAT\"),\n",
        "    bigquery.SchemaField(\"longitude\", \"FLOAT\"),\n",
        "    bigquery.SchemaField(\"capacity\", \"INTEGER\"),\n",
        "    bigquery.SchemaField(\"fia_grade\", \"STRING\"),\n",
        "    bigquery.SchemaField(\"circuit_status\", \"STRING\")\n",
        "]\n",
        "\n",
        "# Load JSON files from GCS into BigQuery\n",
        "def load_json_files(bucket_name, folder, table_id, schema):\n",
        "    bucket = storage_client.bucket(bucket_name)\n",
        "    blobs = list(bucket.list_blobs(prefix=folder))\n",
        "\n",
        "    if not blobs:\n",
        "        print(f\"No files found in {folder}\")\n",
        "        return\n",
        "\n",
        "    for blob in blobs:\n",
        "        if blob.name.endswith(\".json\"):\n",
        "            print(f\"Loading {blob.name} into BigQuery...\")\n",
        "\n",
        "            uri = f\"gs://{bucket_name}/{blob.name}\"\n",
        "\n",
        "            job_config = bigquery.LoadJobConfig(\n",
        "                schema=schema,\n",
        "                source_format=bigquery.SourceFormat.NEWLINE_DELIMITED_JSON,\n",
        "                write_disposition=bigquery.WriteDisposition.WRITE_APPEND\n",
        "            )\n",
        "\n",
        "            load_job = bq_client.load_table_from_uri(uri, table_id, job_config=job_config)\n",
        "            load_job.result()\n",
        "\n",
        "            print(f\"Successfully loaded {blob.name} into {table_id}\")\n",
        "\n",
        "# Execute the function\n",
        "load_json_files(\"formula1-ss\", \"initial-loads/racerpedia/llm_text_fixed/\", \"formula1_raw.circuits_v2\", schema)\n"
      ],
      "metadata": {
        "id": "5MgiOPPssVir",
        "colab": {
          "base_uri": "https://localhost:8080/"
        },
        "outputId": "492548a9-2338-4b56-eaa6-7c3ebf8c3f6d"
      },
      "execution_count": null,
      "outputs": [
        {
          "output_type": "stream",
          "name": "stdout",
          "text": [
            "Loading initial-loads/racerpedia/llm_text_fixed/Albert_Park_Circuit_1_9.json into BigQuery...\n",
            "Successfully loaded initial-loads/racerpedia/llm_text_fixed/Albert_Park_Circuit_1_9.json into formula1_raw.circuits_v2\n",
            "Loading initial-loads/racerpedia/llm_text_fixed/Algarve_International_Circuit_1_13.json into BigQuery...\n",
            "Successfully loaded initial-loads/racerpedia/llm_text_fixed/Algarve_International_Circuit_1_13.json into formula1_raw.circuits_v2\n",
            "Loading initial-loads/racerpedia/llm_text_fixed/Australian_Grand_Prix_1_29.json into BigQuery...\n",
            "Successfully loaded initial-loads/racerpedia/llm_text_fixed/Australian_Grand_Prix_1_29.json into formula1_raw.circuits_v2\n",
            "Loading initial-loads/racerpedia/llm_text_fixed/Autódromo_Hermanos_Rodríguez_1_13.json into BigQuery...\n",
            "Successfully loaded initial-loads/racerpedia/llm_text_fixed/Autódromo_Hermanos_Rodríguez_1_13.json into formula1_raw.circuits_v2\n",
            "Loading initial-loads/racerpedia/llm_text_fixed/Bahrain_International_Circuit_1_13.json into BigQuery...\n",
            "Successfully loaded initial-loads/racerpedia/llm_text_fixed/Bahrain_International_Circuit_1_13.json into formula1_raw.circuits_v2\n",
            "Loading initial-loads/racerpedia/llm_text_fixed/Baku_City_Circuit_1_5.json into BigQuery...\n",
            "Successfully loaded initial-loads/racerpedia/llm_text_fixed/Baku_City_Circuit_1_5.json into formula1_raw.circuits_v2\n",
            "Loading initial-loads/racerpedia/llm_text_fixed/Circuit_Gilles_Villeneuve_1_12.json into BigQuery...\n",
            "Successfully loaded initial-loads/racerpedia/llm_text_fixed/Circuit_Gilles_Villeneuve_1_12.json into formula1_raw.circuits_v2\n",
            "Loading initial-loads/racerpedia/llm_text_fixed/Circuit_Paul_Ricard_1_18.json into BigQuery...\n",
            "Successfully loaded initial-loads/racerpedia/llm_text_fixed/Circuit_Paul_Ricard_1_18.json into formula1_raw.circuits_v2\n",
            "Loading initial-loads/racerpedia/llm_text_fixed/Circuit_Zandvoort_1_13.json into BigQuery...\n",
            "Successfully loaded initial-loads/racerpedia/llm_text_fixed/Circuit_Zandvoort_1_13.json into formula1_raw.circuits_v2\n",
            "Loading initial-loads/racerpedia/llm_text_fixed/Circuit_de_Barcelona-Catalunya_1_23.json into BigQuery...\n",
            "Successfully loaded initial-loads/racerpedia/llm_text_fixed/Circuit_de_Barcelona-Catalunya_1_23.json into formula1_raw.circuits_v2\n",
            "Loading initial-loads/racerpedia/llm_text_fixed/Circuit_de_Monaco_1_14.json into BigQuery...\n",
            "Successfully loaded initial-loads/racerpedia/llm_text_fixed/Circuit_de_Monaco_1_14.json into formula1_raw.circuits_v2\n",
            "Loading initial-loads/racerpedia/llm_text_fixed/Hungaroring_1_13.json into BigQuery...\n",
            "Successfully loaded initial-loads/racerpedia/llm_text_fixed/Hungaroring_1_13.json into formula1_raw.circuits_v2\n",
            "Loading initial-loads/racerpedia/llm_text_fixed/Monza_Circuit_1_26.json into BigQuery...\n",
            "Successfully loaded initial-loads/racerpedia/llm_text_fixed/Monza_Circuit_1_26.json into formula1_raw.circuits_v2\n",
            "Loading initial-loads/racerpedia/llm_text_fixed/Shanghai_International_Circuit_1_7.json into BigQuery...\n",
            "Successfully loaded initial-loads/racerpedia/llm_text_fixed/Shanghai_International_Circuit_1_7.json into formula1_raw.circuits_v2\n",
            "Loading initial-loads/racerpedia/llm_text_fixed/Silverstone_Circuit_1_46.json into BigQuery...\n",
            "Successfully loaded initial-loads/racerpedia/llm_text_fixed/Silverstone_Circuit_1_46.json into formula1_raw.circuits_v2\n",
            "Loading initial-loads/racerpedia/llm_text_fixed/Suzuka_International_Racing_Course_1_15.json into BigQuery...\n",
            "Successfully loaded initial-loads/racerpedia/llm_text_fixed/Suzuka_International_Racing_Course_1_15.json into formula1_raw.circuits_v2\n",
            "Loading initial-loads/racerpedia/llm_text_fixed/Yas_Marina_Circuit_1_14.json into BigQuery...\n",
            "Successfully loaded initial-loads/racerpedia/llm_text_fixed/Yas_Marina_Circuit_1_14.json into formula1_raw.circuits_v2\n"
          ]
        }
      ]
    },
    {
      "cell_type": "code",
      "source": [
        "import json\n",
        "from google.cloud import storage\n",
        "\n",
        "# Initialize Google Cloud Storage client\n",
        "storage_client = storage.Client()\n",
        "\n",
        "# Define GCS bucket and folder paths\n",
        "bucket_name = \"formula1-ss\"\n",
        "input_folder = \"initial-loads/racerpedia/llm_text/\"\n",
        "output_folder = \"initial-loads/racerpedia/llm_text_fixed/\"\n",
        "\n",
        "bucket = storage_client.bucket(bucket_name)\n",
        "blobs = list(bucket.list_blobs(prefix=input_folder))\n",
        "\n",
        "for blob in blobs:\n",
        "    if blob.name.endswith(\".json\"):\n",
        "        print(f\"Processing {blob.name}\")\n",
        "\n",
        "        # Read JSON file from GCS\n",
        "        json_data = blob.download_as_text()\n",
        "\n",
        "        try:\n",
        "            # Parse JSON content\n",
        "            parsed_data = json.loads(json_data)\n",
        "\n",
        "            # Convert to Newline Delimited JSON (NDJSON)\n",
        "            if isinstance(parsed_data, dict):\n",
        "                ndjson_data = json.dumps(parsed_data)\n",
        "            elif isinstance(parsed_data, list):\n",
        "                ndjson_data = \"\\n\".join(json.dumps(obj) for obj in parsed_data)\n",
        "            else:\n",
        "                print(f\"Skipping {blob.name}, invalid structure\")\n",
        "                continue\n",
        "\n",
        "            # Upload corrected file to GCS\n",
        "            new_blob = bucket.blob(output_folder + blob.name.split(\"/\")[-1])\n",
        "            new_blob.upload_from_string(ndjson_data, content_type=\"application/json\")\n",
        "\n",
        "            print(f\"Uploaded corrected file: {new_blob.name}\")\n",
        "\n",
        "        except json.JSONDecodeError:\n",
        "            print(f\"Invalid JSON format in {blob.name}, skipping\")\n"
      ],
      "metadata": {
        "colab": {
          "base_uri": "https://localhost:8080/"
        },
        "id": "fVLOfbHJ3q6y",
        "outputId": "c2047989-2f5f-4637-914a-d08153e2804d"
      },
      "execution_count": null,
      "outputs": [
        {
          "output_type": "stream",
          "name": "stdout",
          "text": [
            "Processing initial-loads/racerpedia/llm_text/Albert_Park_Circuit_1_9.json\n",
            "Uploaded corrected file: initial-loads/racerpedia/llm_text_fixed/Albert_Park_Circuit_1_9.json\n",
            "Processing initial-loads/racerpedia/llm_text/Algarve_International_Circuit_1_13.json\n",
            "Uploaded corrected file: initial-loads/racerpedia/llm_text_fixed/Algarve_International_Circuit_1_13.json\n",
            "Processing initial-loads/racerpedia/llm_text/Australian_Grand_Prix_1_29.json\n",
            "Uploaded corrected file: initial-loads/racerpedia/llm_text_fixed/Australian_Grand_Prix_1_29.json\n",
            "Processing initial-loads/racerpedia/llm_text/Autódromo_Hermanos_Rodríguez_1_13.json\n",
            "Uploaded corrected file: initial-loads/racerpedia/llm_text_fixed/Autódromo_Hermanos_Rodríguez_1_13.json\n",
            "Processing initial-loads/racerpedia/llm_text/Bahrain_International_Circuit_1_13.json\n",
            "Uploaded corrected file: initial-loads/racerpedia/llm_text_fixed/Bahrain_International_Circuit_1_13.json\n",
            "Processing initial-loads/racerpedia/llm_text/Baku_City_Circuit_1_5.json\n",
            "Uploaded corrected file: initial-loads/racerpedia/llm_text_fixed/Baku_City_Circuit_1_5.json\n",
            "Processing initial-loads/racerpedia/llm_text/Circuit_Gilles_Villeneuve_1_12.json\n",
            "Uploaded corrected file: initial-loads/racerpedia/llm_text_fixed/Circuit_Gilles_Villeneuve_1_12.json\n",
            "Processing initial-loads/racerpedia/llm_text/Circuit_Paul_Ricard_1_18.json\n",
            "Uploaded corrected file: initial-loads/racerpedia/llm_text_fixed/Circuit_Paul_Ricard_1_18.json\n",
            "Processing initial-loads/racerpedia/llm_text/Circuit_Zandvoort_1_13.json\n",
            "Uploaded corrected file: initial-loads/racerpedia/llm_text_fixed/Circuit_Zandvoort_1_13.json\n",
            "Processing initial-loads/racerpedia/llm_text/Circuit_de_Barcelona-Catalunya_1_23.json\n",
            "Uploaded corrected file: initial-loads/racerpedia/llm_text_fixed/Circuit_de_Barcelona-Catalunya_1_23.json\n",
            "Processing initial-loads/racerpedia/llm_text/Circuit_de_Monaco_1_14.json\n",
            "Uploaded corrected file: initial-loads/racerpedia/llm_text_fixed/Circuit_de_Monaco_1_14.json\n",
            "Processing initial-loads/racerpedia/llm_text/Hungaroring_1_13.json\n",
            "Uploaded corrected file: initial-loads/racerpedia/llm_text_fixed/Hungaroring_1_13.json\n",
            "Processing initial-loads/racerpedia/llm_text/Monza_Circuit_1_26.json\n",
            "Uploaded corrected file: initial-loads/racerpedia/llm_text_fixed/Monza_Circuit_1_26.json\n",
            "Processing initial-loads/racerpedia/llm_text/Shanghai_International_Circuit_1_7.json\n",
            "Uploaded corrected file: initial-loads/racerpedia/llm_text_fixed/Shanghai_International_Circuit_1_7.json\n",
            "Processing initial-loads/racerpedia/llm_text/Silverstone_Circuit_1_46.json\n",
            "Uploaded corrected file: initial-loads/racerpedia/llm_text_fixed/Silverstone_Circuit_1_46.json\n",
            "Processing initial-loads/racerpedia/llm_text/Suzuka_International_Racing_Course_1_15.json\n",
            "Uploaded corrected file: initial-loads/racerpedia/llm_text_fixed/Suzuka_International_Racing_Course_1_15.json\n",
            "Processing initial-loads/racerpedia/llm_text/Yas_Marina_Circuit_1_14.json\n",
            "Uploaded corrected file: initial-loads/racerpedia/llm_text_fixed/Yas_Marina_Circuit_1_14.json\n"
          ]
        }
      ]
    }
  ]
}