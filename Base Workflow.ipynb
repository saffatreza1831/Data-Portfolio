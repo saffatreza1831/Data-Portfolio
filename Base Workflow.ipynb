{
  "cells": [
    {
      "cell_type": "markdown",
      "metadata": {
        "id": "4zYPQg04pNJz"
      },
      "source": [
        "# **HW4: Machine Learning Based Investment Strategy For NBA Players Memorabilia**\n",
        "\n",
        "## **BAX 357 - Predictive Analytics**"
      ]
    },
    {
      "cell_type": "markdown",
      "metadata": {
        "id": "O9fAc6eOqLLZ"
      },
      "source": [
        "## **For this project, I will use real data on past basketball players and machine learning techniques to make informed memorabilia investment decisions! To begin, I will import the following libraries and read in the dataframe below.**"
      ]
    },
    {
      "cell_type": "code",
      "execution_count": 1,
      "metadata": {
        "id": "lAItBEBNpMtE"
      },
      "outputs": [],
      "source": [
        "# Import Libraries\n",
        "import numpy as np\n",
        "from matplotlib import pyplot as plt\n",
        "import pandas as pd\n",
        "from sklearn.metrics import confusion_matrix, ConfusionMatrixDisplay, RocCurveDisplay, accuracy_score, confusion_matrix, accuracy_score, roc_curve, auc\n",
        "from sklearn.model_selection import cross_val_score, cross_val_predict\n",
        "from sklearn.tree import DecisionTreeClassifier\n",
        "from sklearn.ensemble import BaggingClassifier, RandomForestClassifier\n",
        "from sklearn.naive_bayes import MultinomialNB\n",
        "from sklearn.neighbors import KNeighborsClassifier\n",
        "from sklearn.feature_selection import SelectKBest, chi2, mutual_info_classif\n",
        "from sklearn.model_selection import train_test_split\n",
        "\n",
        "# Reset Plot Settings\n",
        "plt.rcdefaults()"
      ]
    },
    {
      "cell_type": "code",
      "execution_count": 2,
      "metadata": {
        "id": "5D-PVDT_rDoA"
      },
      "outputs": [],
      "source": [
        "NBA_Data = pd.read_csv('NBA_Data.csv',index_col=0)"
      ]
    },
    {
      "cell_type": "markdown",
      "metadata": {
        "id": "9FxNDGO9tTCh"
      },
      "source": [
        "## **About the data:**"
      ]
    },
    {
      "cell_type": "markdown",
      "metadata": {
        "id": "G5vb1UsNtbK6"
      },
      "source": [
        "You are provided with data on past players that includes 27 different predictors/attributes on each player. The complete list is as follows:\n",
        "\n",
        "Field | Description\n",
        "------|------------\n",
        "games|games played\n",
        "minutes|minutes played\n",
        "pts|points\n",
        "offReb|offensive rebounds\n",
        "defReb|defensive rebounds\n",
        "reb|rebounds\n",
        "asts|assists\n",
        "stl|steals* (see below)\n",
        "blk|blocks* (see below)\n",
        "turnover|turnovers* (see below)\n",
        "pf|Personal Fouls\n",
        "fga|field goals attempted\n",
        "fgm|field goals made\n",
        "fta|free throws attempted\n",
        "ftm|free throws made\n",
        "tpa|three pointers attempted* (see below)\n",
        "tpm|three pointers made* (see below)\n",
        "totalSeasons|Total number of seasons played. This value is calculated as follows: \"lastSeason - firstSeason + 1\"\n",
        "firstSeason|First season played. The year corresponds to the first year of the season (i.e. a value of 2000 represents the 2000-2001 season).\n",
        "lastSeason|Last season played. The year corresponds to the first year of the season (i.e. a value of 2000 represents the 2000-2001 season). Note that 2004 (2004-2005 season) is the last year for which there is data.\n",
        "careerEnded|Boolean field for if the player's career has ended (1 if career has ended, 0 otherwise). This field was calculated as follows: if the \"lastSeason\" field is earlier than 2004, the value is 1, otherwise 0. Note that this calculation naively assumes that no players retired at the end of the 2004  season.\n",
        "yrsRetired2004|The number of seasons that a player has been retired as of the 2004-2005 season.\n",
        "class|A Boolean field showing whether or not a player was inducted to the Basketball Hall of Fame (HoF) as a player. This field has value 1 if the player has been inducted, and 0 otherwise.\n",
        "league| N = National Basketball Association (NBA); A = American Basketball Association (ABA)\n",
        "position|C = Center; F = Forward; G = Guard"
      ]
    },
    {
      "cell_type": "markdown",
      "metadata": {
        "id": "5euiV13buAL3"
      },
      "source": [
        "Important Notes:\n",
        "\n",
        "* The NBA did not have three point shots until 1979.\n",
        "* Steals, Blocks and Turnovers were not recorded in the NBA until 1973.\n",
        "\n",
        "Each row corresponds to a player and contains the player's attributes above.\n",
        "\n",
        "The first 5 rows of the dataframe are shown below:"
      ]
    },
    {
      "cell_type": "code",
      "execution_count": 3,
      "metadata": {
        "colab": {
          "base_uri": "https://localhost:8080/",
          "height": 235
        },
        "id": "SHRRDDRxudbL",
        "outputId": "36b7f3a1-6a2b-4cc1-baa9-b5b22d747bb9"
      },
      "outputs": [
        {
          "data": {
            "text/html": [
              "<div>\n",
              "<style scoped>\n",
              "    .dataframe tbody tr th:only-of-type {\n",
              "        vertical-align: middle;\n",
              "    }\n",
              "\n",
              "    .dataframe tbody tr th {\n",
              "        vertical-align: top;\n",
              "    }\n",
              "\n",
              "    .dataframe thead th {\n",
              "        text-align: right;\n",
              "    }\n",
              "</style>\n",
              "<table border=\"1\" class=\"dataframe\">\n",
              "  <thead>\n",
              "    <tr style=\"text-align: right;\">\n",
              "      <th></th>\n",
              "      <th>games</th>\n",
              "      <th>minutes</th>\n",
              "      <th>pts</th>\n",
              "      <th>offReb</th>\n",
              "      <th>defReb</th>\n",
              "      <th>reb</th>\n",
              "      <th>asts</th>\n",
              "      <th>stl</th>\n",
              "      <th>blk</th>\n",
              "      <th>turnover</th>\n",
              "      <th>...</th>\n",
              "      <th>firstSeason</th>\n",
              "      <th>lastSeason</th>\n",
              "      <th>careerEnded</th>\n",
              "      <th>yrsRetired2004</th>\n",
              "      <th>class</th>\n",
              "      <th>league_A</th>\n",
              "      <th>league_N</th>\n",
              "      <th>Position_C</th>\n",
              "      <th>Position_F</th>\n",
              "      <th>Position_G</th>\n",
              "    </tr>\n",
              "  </thead>\n",
              "  <tbody>\n",
              "    <tr>\n",
              "      <th>0</th>\n",
              "      <td>408.0</td>\n",
              "      <td>9825.0</td>\n",
              "      <td>5232.0</td>\n",
              "      <td>476.0</td>\n",
              "      <td>824.0</td>\n",
              "      <td>1300.0</td>\n",
              "      <td>866.0</td>\n",
              "      <td>265.0</td>\n",
              "      <td>175.0</td>\n",
              "      <td>700.0</td>\n",
              "      <td>...</td>\n",
              "      <td>1982.0</td>\n",
              "      <td>1990.0</td>\n",
              "      <td>1.0</td>\n",
              "      <td>14.0</td>\n",
              "      <td>False</td>\n",
              "      <td>0</td>\n",
              "      <td>1</td>\n",
              "      <td>0</td>\n",
              "      <td>0</td>\n",
              "      <td>1</td>\n",
              "    </tr>\n",
              "    <tr>\n",
              "      <th>1</th>\n",
              "      <td>51.0</td>\n",
              "      <td>0.0</td>\n",
              "      <td>587.0</td>\n",
              "      <td>0.0</td>\n",
              "      <td>0.0</td>\n",
              "      <td>0.0</td>\n",
              "      <td>158.0</td>\n",
              "      <td>0.0</td>\n",
              "      <td>0.0</td>\n",
              "      <td>0.0</td>\n",
              "      <td>...</td>\n",
              "      <td>1949.0</td>\n",
              "      <td>1949.0</td>\n",
              "      <td>1.0</td>\n",
              "      <td>55.0</td>\n",
              "      <td>False</td>\n",
              "      <td>0</td>\n",
              "      <td>1</td>\n",
              "      <td>0</td>\n",
              "      <td>0</td>\n",
              "      <td>1</td>\n",
              "    </tr>\n",
              "    <tr>\n",
              "      <th>2</th>\n",
              "      <td>265.0</td>\n",
              "      <td>0.0</td>\n",
              "      <td>1712.0</td>\n",
              "      <td>0.0</td>\n",
              "      <td>0.0</td>\n",
              "      <td>72.0</td>\n",
              "      <td>311.0</td>\n",
              "      <td>0.0</td>\n",
              "      <td>0.0</td>\n",
              "      <td>0.0</td>\n",
              "      <td>...</td>\n",
              "      <td>1946.0</td>\n",
              "      <td>1950.0</td>\n",
              "      <td>1.0</td>\n",
              "      <td>54.0</td>\n",
              "      <td>False</td>\n",
              "      <td>0</td>\n",
              "      <td>1</td>\n",
              "      <td>0</td>\n",
              "      <td>0</td>\n",
              "      <td>1</td>\n",
              "    </tr>\n",
              "    <tr>\n",
              "      <th>3</th>\n",
              "      <td>133.0</td>\n",
              "      <td>2587.0</td>\n",
              "      <td>992.0</td>\n",
              "      <td>55.0</td>\n",
              "      <td>198.0</td>\n",
              "      <td>253.0</td>\n",
              "      <td>291.0</td>\n",
              "      <td>123.0</td>\n",
              "      <td>14.0</td>\n",
              "      <td>207.0</td>\n",
              "      <td>...</td>\n",
              "      <td>2003.0</td>\n",
              "      <td>2004.0</td>\n",
              "      <td>0.0</td>\n",
              "      <td>0.0</td>\n",
              "      <td>False</td>\n",
              "      <td>0</td>\n",
              "      <td>1</td>\n",
              "      <td>0</td>\n",
              "      <td>0</td>\n",
              "      <td>1</td>\n",
              "    </tr>\n",
              "    <tr>\n",
              "      <th>4</th>\n",
              "      <td>8.0</td>\n",
              "      <td>28.0</td>\n",
              "      <td>7.0</td>\n",
              "      <td>0.0</td>\n",
              "      <td>2.0</td>\n",
              "      <td>2.0</td>\n",
              "      <td>0.0</td>\n",
              "      <td>0.0</td>\n",
              "      <td>0.0</td>\n",
              "      <td>1.0</td>\n",
              "      <td>...</td>\n",
              "      <td>2004.0</td>\n",
              "      <td>2004.0</td>\n",
              "      <td>0.0</td>\n",
              "      <td>0.0</td>\n",
              "      <td>False</td>\n",
              "      <td>0</td>\n",
              "      <td>1</td>\n",
              "      <td>0</td>\n",
              "      <td>0</td>\n",
              "      <td>1</td>\n",
              "    </tr>\n",
              "  </tbody>\n",
              "</table>\n",
              "<p>5 rows × 28 columns</p>\n",
              "</div>"
            ],
            "text/plain": [
              "   games  minutes     pts  offReb  defReb     reb   asts    stl    blk  \\\n",
              "0  408.0   9825.0  5232.0   476.0   824.0  1300.0  866.0  265.0  175.0   \n",
              "1   51.0      0.0   587.0     0.0     0.0     0.0  158.0    0.0    0.0   \n",
              "2  265.0      0.0  1712.0     0.0     0.0    72.0  311.0    0.0    0.0   \n",
              "3  133.0   2587.0   992.0    55.0   198.0   253.0  291.0  123.0   14.0   \n",
              "4    8.0     28.0     7.0     0.0     2.0     2.0    0.0    0.0    0.0   \n",
              "\n",
              "   turnover  ...  firstSeason  lastSeason  careerEnded  yrsRetired2004  class  \\\n",
              "0     700.0  ...       1982.0      1990.0          1.0            14.0  False   \n",
              "1       0.0  ...       1949.0      1949.0          1.0            55.0  False   \n",
              "2       0.0  ...       1946.0      1950.0          1.0            54.0  False   \n",
              "3     207.0  ...       2003.0      2004.0          0.0             0.0  False   \n",
              "4       1.0  ...       2004.0      2004.0          0.0             0.0  False   \n",
              "\n",
              "   league_A  league_N  Position_C  Position_F  Position_G  \n",
              "0         0         1           0           0           1  \n",
              "1         0         1           0           0           1  \n",
              "2         0         1           0           0           1  \n",
              "3         0         1           0           0           1  \n",
              "4         0         1           0           0           1  \n",
              "\n",
              "[5 rows x 28 columns]"
            ]
          },
          "execution_count": 3,
          "metadata": {},
          "output_type": "execute_result"
        }
      ],
      "source": [
        "NBA_Data.head()"
      ]
    },
    {
      "cell_type": "markdown",
      "metadata": {
        "id": "wrLSdgb9vLUW"
      },
      "source": [
        "**My task is to use this historical dataset to build a classification model predicting whether or not a given player will be inducted into the NBA Hall of Fame (and the probability thereof). Once I build your model, I will then apply it to select players to invest in.**\n",
        "\n",
        "The goal of this project is to develop hands-on experience in developing and evaluating different machine learning models to inform interventions (in this case, investment decisions) and to maximize profitability (**wherein each time you correctly predict that a player will be inducted into the hall of fame, you turn a profit, and every other player captured is considered a loss**). This will be explained in greater detail in Part III of the project.\n",
        "\n",
        "The data set includes a target variable (i.e., the class) which indicates whether or not the player has been inducted to the hall of fame. The target variable is binary and has value 1 if the player has been inducted or 0 otherwise.\n",
        "\n",
        "Important Notes:\n",
        "\n",
        "* We assume that a player who has not been inducted 45.4 years after retirement, will not be inducted.\n",
        "* The data includes the actual target variable value for each player. This information is available for this assignment in order to allow you to evaluate the efficacy of investment decisions and to compare amongst investments selected by different models to identify the best model to use in the future. However, in actual deployment, we would not have access to this target variable."
      ]
    },
    {
      "cell_type": "markdown",
      "metadata": {
        "id": "jgTG_R8U0DOR"
      },
      "source": [
        "## **Part I: Building, Evaluating and Comparing Different Machine Learning Models**"
      ]
    },
    {
      "cell_type": "markdown",
      "metadata": {
        "id": "cd5K6Tfo0xhO"
      },
      "source": [
        "**1.1: For the purposes of this project, I will create and fit a [Decision Tree](https://scikit-learn.org/stable/modules/generated/sklearn.tree.DecisionTreeClassifier.html), [Bagging](https://scikit-learn.org/stable/modules/generated/sklearn.ensemble.BaggingClassifier.html), [Random Forest](https://scikit-learn.org/stable/modules/generated/sklearn.ensemble.RandomForestClassifier.html), [Multinomial Naive Bayes](https://scikit-learn.org/stable/modules/generated/sklearn.naive_bayes.MultinomialNB.html), and [KNeighbors Classifier](https://scikit-learn.org/stable/modules/generated/sklearn.neighbors.KNeighborsClassifier.html) to the data. I will compare the results of my models using 10-Fold Cross Validation and display the results here for each model. I will also play with the parameters for each model to try and generate better results while keeping in mind best practices to avoid overfitting. (5 Points)**\n",
        "\n",
        "My goal is to optimize for model accuracy and area under the ROC (use [cross_val_score](https://scikit-learn.org/stable/modules/generated/sklearn.model_selection.cross_val_score.html)); do not worry about profitability at this stage.  \n",
        "\n",
        "Additionally, make sure to split your data into a train and test dataset with the [train_test_split()](https://scikit-learn.org/stable/modules/generated/sklearn.model_selection.train_test_split.html) method. Consider the training data as historical data that you were provided with to develop an investment strategy. The test set includes players, the memorabilia of which you are considering to invest in.\n",
        "\n",
        "**Additionally, I will set the `test_size = 0.33`.**"
      ]
    },
    {
      "cell_type": "code",
      "execution_count": 4,
      "metadata": {
        "id": "Xun0lnxK3l8b"
      },
      "outputs": [],
      "source": [
        "X = NBA_Data.drop(columns='class')\n",
        "y = NBA_Data['class']\n",
        "X = np.ascontiguousarray(X)\n",
        "\n",
        "\n",
        "X_training, X_testing, y_training, y_testing = train_test_split(X, y, test_size=0.33, random_state=3) # Fill in Code Here\n",
        "\n",
        "\n",
        "\n",
        "# Insert Remaining Code Here\n",
        "\n",
        "# Report Score Function\n",
        "def report_score(mymodel, X, y, mycv):\n",
        "# To use this function, all we need to do is feed it our model of interest, X, y, and the number of folds for cross-validation.\n",
        "\n",
        "    # Calculate and print the cross-validation accuracy\n",
        "    cross_val_accuracy = round(cross_val_score(mymodel, X, y, cv = mycv).mean()*100,2)\n",
        "    print(f\"{mycv}-Fold Cross-Validation Classification Accuracy: {cross_val_accuracy:.2f}%\")\n",
        "\n",
        "    # Calculate and print the cross-validation ROC AUC\n",
        "    cross_val_accuracy_roc_auc = round(cross_val_score(mymodel, X, y, cv =  mycv, scoring = 'roc_auc').mean()*100,2)\n",
        "    print(f\"\\n{mycv}-Fold Cross-Validation ROC AUC: {cross_val_accuracy_roc_auc:.2f} %\")\n",
        "\n",
        "    # Decision Tree Model\n",
        "decisions = DecisionTreeClassifier(criterion = 'entropy', max_depth = 5, random_state = 3).fit(X_training, y_training)\n",
        "\n",
        "#Bagging Model\n",
        "bagging_model = BaggingClassifier(n_estimators = 30, random_state = 3).fit(X_training, y_training)\n",
        "\n",
        "#Random Forest\n",
        "randomforestog = RandomForestClassifier(criterion = 'entropy', n_estimators = 100, random_state = 3).fit(X_training,y_training)\n",
        "\n",
        "#Multinomial Naive Bayes Model\n",
        "bayes = MultinomialNB().fit(X_training,y_training)\n",
        "\n",
        "#knn\n",
        "knn = KNeighborsClassifier(n_neighbors=3).fit(X_training,y_training)\n",
        "\n"
      ]
    },
    {
      "cell_type": "code",
      "execution_count": 5,
      "metadata": {
        "colab": {
          "base_uri": "https://localhost:8080/"
        },
        "id": "iH31FGVbw8X1",
        "outputId": "d49f5f98-3dfb-4cbd-9112-694b68afa64f"
      },
      "outputs": [
        {
          "name": "stdout",
          "output_type": "stream",
          "text": [
            "Decision Tree Classifier:\n",
            "10-Fold Cross-Validation Classification Accuracy: 97.29%\n",
            "\n",
            "10-Fold Cross-Validation ROC AUC: 91.69 %\n",
            "\n",
            "-----------------------------------------------------\n",
            "\n",
            "Bagging Model\n"
          ]
        },
        {
          "name": "stdout",
          "output_type": "stream",
          "text": [
            "10-Fold Cross-Validation Classification Accuracy: 96.37%\n",
            "\n",
            "10-Fold Cross-Validation ROC AUC: 97.52 %\n",
            "\n",
            "-----------------------------------------------------\n",
            "\n",
            "Random Forest Model\n",
            "10-Fold Cross-Validation Classification Accuracy: 98.49%\n",
            "\n",
            "10-Fold Cross-Validation ROC AUC: 97.89 %\n",
            "\n",
            "-----------------------------------------------------\n",
            "\n",
            "Multinomial Naive Bayes Model\n",
            "10-Fold Cross-Validation Classification Accuracy: 88.25%\n",
            "\n",
            "10-Fold Cross-Validation ROC AUC: 92.15 %\n",
            "\n",
            "-----------------------------------------------------\n",
            "\n",
            "KNeighbors Classifier\n",
            "10-Fold Cross-Validation Classification Accuracy: 97.89%\n",
            "\n",
            "10-Fold Cross-Validation ROC AUC: 88.68 %\n"
          ]
        }
      ],
      "source": [
        "print('Decision Tree Classifier:')\n",
        "report_score(decisions, X_training, y_training, 10)\n",
        "\n",
        "print('\\n-----------------------------------------------------\\n')\n",
        "\n",
        "print('Bagging Model')\n",
        "report_score(bagging_model,X_training, y_training,10)\n",
        "\n",
        "print('\\n-----------------------------------------------------\\n')\n",
        "\n",
        "print('Random Forest Model')\n",
        "report_score(randomforestog,X_training, y_training,10)\n",
        "\n",
        "print('\\n-----------------------------------------------------\\n')\n",
        "\n",
        "print('Multinomial Naive Bayes Model')\n",
        "report_score(bayes, X_training, y_training,10)\n",
        "\n",
        "print('\\n-----------------------------------------------------\\n')\n",
        "\n",
        "print('KNeighbors Classifier')\n",
        "report_score(knn, X_training, y_training,10)"
      ]
    },
    {
      "cell_type": "markdown",
      "metadata": {
        "id": "k0gc1MNB-4H_"
      },
      "source": [
        "**1.2: Using classification accuracy rate as the evaluation measure, which model best predicts whether or not a player will be inducted?**"
      ]
    },
    {
      "cell_type": "markdown",
      "metadata": {
        "id": "Ya6PNhWi_Au2"
      },
      "source": [
        "\n",
        "        The random forest model best predicts whether or not a player will be inducted based on classification accuracy."
      ]
    },
    {
      "cell_type": "markdown",
      "metadata": {
        "id": "is6cJNJt_FQF"
      },
      "source": [
        "**1.3: Using the area under the ROC, which model yields the largest area under the ROC?**"
      ]
    },
    {
      "cell_type": "markdown",
      "metadata": {
        "id": "0LB5Ndxs_L7w"
      },
      "source": [
        "        The random forest model yields the largest area under the ROC"
      ]
    },
    {
      "cell_type": "markdown",
      "metadata": {
        "id": "uQ94a5HjAzVV"
      },
      "source": [
        "**1.4: Given your goal is to identify and invest in a set of players likely to be inducted to the Hall of Fame, which of the two measures above (classification accuracy rate or ROC area) is more appropriate for selecting the model to inform your investments? Explain your answer.**\n",
        "\n",
        "Note that while classification accuracy rate and ROC area may often agree, in some cases the classification accuracy of two models may be comparable, while the ROC area of one may be larger than the other."
      ]
    },
    {
      "cell_type": "markdown",
      "metadata": {
        "id": "8N7jV5tBA8fE"
      },
      "source": [
        "        The ROC area is more appropriate for selecting the model to inform my investments because it has the ability to distinguish between two classes (yes or no Hall of Fame in this homework). Moreover, the ROC AUC allows us to make threshholds when classifying whether or not someone made the Hall of Fame after we create our mode. This will allow us to create a model that will provide the highest profit based on a probability threshhold we will set."
      ]
    },
    {
      "cell_type": "markdown",
      "metadata": {
        "id": "SV-TQjOV0IKl"
      },
      "source": [
        "## **Part II: Analysis and Model Improvement**"
      ]
    },
    {
      "cell_type": "markdown",
      "metadata": {
        "id": "Bs3uNGOFGMEz"
      },
      "source": [
        "**2.1: Using a [correlation matrix](https://pandas.pydata.org/docs/reference/api/pandas.DataFrame.corr.html) on the dataframe, list the three best predictors of a player’s future induction to the hall of fame (in other words, the three best predictors of the column 'class'). Explain why correlation is a valid ranking measure in this scenario.**\n",
        "\n",
        "**Additionally, please explore further measures for evaluating the significance of features using the [SelectKBest](https://scikit-learn.org/stable/modules/generated/sklearn.feature_selection.SelectKBest.html) function, specificially focusing on \"Mutual information\" and \"Chi-square.\" Is there a consensus among the correlation matrix, mutual information, and chi-square regarding the top three features?**"
      ]
    },
    {
      "cell_type": "code",
      "execution_count": 6,
      "metadata": {
        "colab": {
          "base_uri": "https://localhost:8080/"
        },
        "id": "3xVGhe0tHAT9",
        "outputId": "d2e10314-df53-4e83-9965-afcf000ddf81"
      },
      "outputs": [
        {
          "name": "stdout",
          "output_type": "stream",
          "text": [
            "Top 3 Features Based on Correlation: class    1.000000\n",
            "ftm      0.712440\n",
            "fta      0.711321\n",
            "fga      0.688851\n",
            "Name: class, dtype: float64\n"
          ]
        },
        {
          "name": "stdout",
          "output_type": "stream",
          "text": [
            "Top 3 Features Based on Information Gain: Index(['games', 'minutes', 'pts'], dtype='object')\n",
            "Top 3 Features Based on Chi2: Index(['minutes', 'pts', 'reb'], dtype='object')\n"
          ]
        }
      ],
      "source": [
        "X = NBA_Data.drop(columns='class')\n",
        "y = NBA_Data['class']\n",
        "\n",
        "# Correlation Matrix:\n",
        "corr_matrix = NBA_Data.corr(method = 'pearson')\n",
        "correlations_class = corr_matrix['class'].sort_values(ascending=False).head(4)\n",
        "print(\"Top 3 Features Based on Correlation:\", correlations_class)\n",
        "\n",
        "# Mutual Information:\n",
        "\n",
        "mutual_info_selector = SelectKBest(mutual_info_classif).fit(X,y) # Fill in code here\n",
        "X_mutual_info = mutual_info_selector.fit_transform(X, y)\n",
        "mutual_info_feat = X.columns[mutual_info_selector.get_support()]\n",
        "print(\"Top 3 Features Based on Information Gain:\", mutual_info_feat[0:3])\n",
        "\n",
        "\n",
        "\n",
        "#Repeat for Chi2!\n",
        "chi = SelectKBest(chi2 ,k=6)\n",
        "X_new = chi.fit_transform(X, y)\n",
        "\n",
        "mask = chi.get_support()\n",
        "selected_features = X.columns[mask]\n",
        "print(\"Top 3 Features Based on Chi2:\", selected_features[0:3])"
      ]
    },
    {
      "cell_type": "markdown",
      "metadata": {
        "id": "Og_7U9aML12K"
      },
      "source": [
        "        Each feature selection method gives us different features that could be the \"best\" predictors in our model."
      ]
    },
    {
      "cell_type": "markdown",
      "metadata": {
        "id": "yryneWduQY2T"
      },
      "source": [
        "**2.2: Most predictors reflect career statistics such as points, assists, and rebounds represent a cumulative value, over a player’s career. Is this an informative predictor for both young and older players’ likelihood of being inducted to the Hall of Fame? Explain your answer.**\n"
      ]
    },
    {
      "cell_type": "markdown",
      "metadata": {
        "id": "XxtJMi33QmtR"
      },
      "source": [
        "        No, there is not an informative predictor for both young and older players' likelihood of being inducted into the Hall of Fame. This is because older players would have a higher amount of points scored most likely because they have been playing for longer. We need to implement some feature engineering that would look at the rebounds, points, assists per game and create a new model testing on those features. This would make all players in the data set more equal because we will be able to analyze by a per game or a per minute attribute."
      ]
    },
    {
      "cell_type": "markdown",
      "metadata": {
        "id": "zn11BXMiQ5A-"
      },
      "source": [
        "**2.3: Improving Model Performance**\n",
        "\n",
        "An important step in developing predictive models involves three general strategies:\n",
        "\n",
        "1. Removing predictors (features or variables) that do not improve or undermine out-of-sample prediction performance (due to overfitting)\n",
        "\n",
        "2. Adding new information that is not included in the current data set (i.e., birth place of a player)\n",
        "\n",
        "3. Constructing new variables (i.e feature construction/engineering)\n",
        "\n",
        "  * New variables can be constructed by applying transformations on existing variables, such as calculating the average career points per game frm the cumulative number of poiints, or by producing a funtion using multiple variables (for example, computing the product or ratio of the number of points and the number of rebounds).\n",
        "\n",
        "**My task is to start with my best model up to this point and aim to improve this model by performing one of the three strategies mentioned above.** In other words, perform feature selection, engineering or a combination of the two!"
      ]
    },
    {
      "cell_type": "markdown",
      "metadata": {
        "id": "qOb2i2p9lE7L"
      },
      "source": [
        "**Two other things to keep in mind:**\n",
        "\n",
        "1. Make sure any modifications made to the data are applied to the entire data set and that you re-do the code for setting X, y, and the train_test_split before you evaluate your changes.\n",
        "\n",
        "2. The data is not entirely without its faults. For example, you may notice there are no null values, but 0s could be placeholders for these values. Additionally, does the context about three-point shots not being recorded until 1979 have an impact? Does the player's first season match when the data was being collected? How can you approach these issues? Are there any other issues in the data?\n"
      ]
    },
    {
      "cell_type": "code",
      "execution_count": 7,
      "metadata": {
        "colab": {
          "base_uri": "https://localhost:8080/"
        },
        "id": "tneRPsz0iF1D",
        "outputId": "5cb115c0-a609-4891-e669-cb2aaf73300e"
      },
      "outputs": [
        {
          "name": "stdout",
          "output_type": "stream",
          "text": [
            "Random Forest Model With Information Gain Features\n",
            "10-Fold Cross-Validation Classification Accuracy: 95.36%\n",
            "\n",
            "10-Fold Cross-Validation ROC AUC: 94.03 %\n",
            "\n",
            "Random Forest Model with CHI2 Features\n",
            "10-Fold Cross-Validation Classification Accuracy: 96.36%\n",
            "\n",
            "10-Fold Cross-Validation ROC AUC: 94.57 %\n"
          ]
        }
      ],
      "source": [
        "# First I will test my model with just the results from the information gain test and the CHI2 test\n",
        "\n",
        "X = NBA_Data[['games', 'minutes', 'pts', 'reb', 'asts', 'pf']]\n",
        "y = NBA_Data['class']\n",
        "\n",
        "randomforest = RandomForestClassifier(criterion = 'entropy', n_estimators = 100, random_state = 3).fit(X,y)\n",
        "\n",
        "print('Random Forest Model With Information Gain Features')\n",
        "report_score(randomforest, X ,y,10)\n",
        "\n",
        "print()\n",
        "X = NBA_Data[['minutes', 'pts', 'reb', 'fga', 'fgm', 'fta']]\n",
        "randomforest = RandomForestClassifier(criterion = 'entropy', n_estimators = 100, random_state = 3).fit(X,y)\n",
        "print('Random Forest Model with CHI2 Features')\n",
        "report_score(randomforest, X ,y,10)"
      ]
    },
    {
      "cell_type": "markdown",
      "metadata": {
        "id": "8fy3sJdZw8X4"
      },
      "source": [
        "        By only using the features selected in each of the feature selection methods created previously, our models did not provide sufficient results for the ROC AUC. I will now create new features that will contain a per minute basis as I mentioned earlier.\n",
        "\n",
        "        ** UPDATE - There are many 0 values for the minutes, so I will have to first make those values into NaN so that I can implement some data imputation that will predict what those 0 values could be.\n",
        "\n",
        "        Let's also see what variables are highly correlated with the minutes variable using the wrapper method"
      ]
    },
    {
      "cell_type": "markdown",
      "metadata": {
        "id": "abvdQEHjw8X5"
      },
      "source": [
        "        This was commented out to improve run time for grading"
      ]
    },
    {
      "cell_type": "code",
      "execution_count": 8,
      "metadata": {
        "id": "XbGxjsfrw8X5"
      },
      "outputs": [],
      "source": [
        "# I am importing randomforestregressor instead of classifier because this is not a classification problem\n",
        "# from sklearn.ensemble import RandomForestRegressor\n",
        "\n",
        "# # wrapper method for minutes\n",
        "\n",
        "# X = NBA_Data.drop(columns='minutes')\n",
        "# y = NBA_Data['minutes']\n",
        "\n",
        "# # Split the dataset\n",
        "# X_train, X_test, y_train, y_test = train_test_split(X, y, test_size=0.33, random_state=3)\n",
        "\n",
        "# # Initialize the RandomForestRegressor\n",
        "# random_forest = RandomForestRegressor(random_state=3)\n",
        "\n",
        "# # Initialize and fit the Sequential Feature Selector\n",
        "# sfs = SFS(random_forest, n_features_to_select='auto', direction='forward', scoring='neg_root_mean_squared_error', cv=10)\n",
        "# sfs.fit(X_train, y_train)  # Make sure to use the training data here\n",
        "\n",
        "\n",
        "# X_selected = sfs.transform(X_train)\n",
        "\n",
        "# # sfs.get_support() returns a boolean array indicating which features were selected.\n",
        "# selected_feature_names = [name for name, selected in zip(X_train.columns, sfs.get_support()) if selected]\n",
        "\n",
        "# print(\"Selected feature names:\", selected_feature_names)"
      ]
    },
    {
      "cell_type": "code",
      "execution_count": 9,
      "metadata": {
        "colab": {
          "base_uri": "https://localhost:8080/"
        },
        "id": "USyXFXjww8X5",
        "outputId": "a161ea86-9e0d-4557-b80d-e2d5a4dd7fe1"
      },
      "outputs": [
        {
          "name": "stdout",
          "output_type": "stream",
          "text": [
            "Average MSE from cross-validation: 2282149.2045655805\n",
            "Average RMSE from cross-validation: 1510.678392168757\n",
            "Standard Deviation of imputed 'minutes': 9677.173459442944\n",
            "Standard Deviation of original model 'minutes': 9720.614594024819\n"
          ]
        }
      ],
      "source": [
        "from sklearn.ensemble import RandomForestRegressor\n",
        "from sklearn.model_selection import KFold, cross_val_score\n",
        "\n",
        "data = NBA_Data.copy()\n",
        "\n",
        "# Replace 0s with NaN in the 'minutes' column\n",
        "data['minutes'] = data['minutes'].replace(0, np.nan)\n",
        "\n",
        "# Prepare the dataset with non-missing values to train the model\n",
        "train_data = data[data['minutes'].notna()]\n",
        "\n",
        "features = ['games', 'pts', 'reb', 'asts', 'stl', 'fta', 'tpm', 'firstSeason', 'lastSeason', 'yrsRetired2004', 'league_N', 'Position_C', 'Position_F', 'Position_G']\n",
        "\n",
        "\n",
        "X_train = train_data[features]\n",
        "y_train = train_data['minutes']\n",
        "\n",
        "# Initialize the Random Forest model with the optimal parameters\n",
        "rf_model = RandomForestRegressor(max_depth=None, max_features='sqrt', min_samples_leaf= 1, min_samples_split=2, n_estimators=200,random_state=3\n",
        ")\n",
        "\n",
        "# Train the Random Forest model on the training\n",
        "rf_model.fit(X_train, y_train)\n",
        "\n",
        "# Prepare the dataset with missing values for imputation\n",
        "impute_data = data[data['minutes'].isna()]\n",
        "\n",
        "# Prepare features for prediction\n",
        "X_impute = impute_data[features]\n",
        "\n",
        "predicted_minutes = rf_model.predict(X_impute)\n",
        "\n",
        "# Replace missing values in the 'minutes' column with predicted values\n",
        "data.loc[data['minutes'].isna(), 'minutes'] = predicted_minutes\n",
        "\n",
        "# calculates the standard deviation of the imputed minutes fopr both before and after\n",
        "std_dev_new = data['minutes'].std()\n",
        "std_dev_imputed = NBA_Data['minutes'].std()\n",
        "\n",
        "kf = KFold(n_splits=5, shuffle=True, random_state=3)\n",
        "# this calculates mse\n",
        "mse_scores = -cross_val_score(rf_model, X_train, y_train, scoring='neg_mean_squared_error', cv=kf)\n",
        "\n",
        "# Calculate and print the average MSE and RMSE across all folds\n",
        "average_mse = np.mean(mse_scores)\n",
        "average_rmse = np.sqrt(average_mse)\n",
        "\n",
        "print(f\"Average MSE from cross-validation: {average_mse}\")\n",
        "print(f\"Average RMSE from cross-validation: {average_rmse}\")\n",
        "print(f\"Standard Deviation of imputed 'minutes': {std_dev_new}\")\n",
        "print(f\"Standard Deviation of original model 'minutes': {std_dev_imputed}\")"
      ]
    },
    {
      "cell_type": "markdown",
      "metadata": {
        "id": "QuGiV6G9w8X5"
      },
      "source": [
        "        Since the RMSE for cross validation is significantly less than the standard deviation, I will assume that the imputation was a success.\n",
        "\n",
        "        Now I will create the new features for per minute.\n",
        "\n",
        "        UPDATE: I tried creating other features such as true shooting percentage and features that are per game, but that did not yield better results, so I deleted them."
      ]
    },
    {
      "cell_type": "code",
      "execution_count": 10,
      "metadata": {
        "colab": {
          "base_uri": "https://localhost:8080/",
          "height": 253
        },
        "id": "w_WWh6xbw8X5",
        "outputId": "e7c5dc00-b934-47cb-85db-f4a492c32c38"
      },
      "outputs": [
        {
          "data": {
            "text/html": [
              "<div>\n",
              "<style scoped>\n",
              "    .dataframe tbody tr th:only-of-type {\n",
              "        vertical-align: middle;\n",
              "    }\n",
              "\n",
              "    .dataframe tbody tr th {\n",
              "        vertical-align: top;\n",
              "    }\n",
              "\n",
              "    .dataframe thead th {\n",
              "        text-align: right;\n",
              "    }\n",
              "</style>\n",
              "<table border=\"1\" class=\"dataframe\">\n",
              "  <thead>\n",
              "    <tr style=\"text-align: right;\">\n",
              "      <th></th>\n",
              "      <th>games</th>\n",
              "      <th>minutes</th>\n",
              "      <th>pts</th>\n",
              "      <th>offReb</th>\n",
              "      <th>defReb</th>\n",
              "      <th>reb</th>\n",
              "      <th>asts</th>\n",
              "      <th>stl</th>\n",
              "      <th>blk</th>\n",
              "      <th>turnover</th>\n",
              "      <th>...</th>\n",
              "      <th>yrsRetired2004</th>\n",
              "      <th>class</th>\n",
              "      <th>league_A</th>\n",
              "      <th>league_N</th>\n",
              "      <th>Position_C</th>\n",
              "      <th>Position_F</th>\n",
              "      <th>Position_G</th>\n",
              "      <th>Assists Per Minute</th>\n",
              "      <th>Points Per Minute</th>\n",
              "      <th>Rebounds Per Minute</th>\n",
              "    </tr>\n",
              "  </thead>\n",
              "  <tbody>\n",
              "    <tr>\n",
              "      <th>0</th>\n",
              "      <td>408.0</td>\n",
              "      <td>9825.000</td>\n",
              "      <td>5232.0</td>\n",
              "      <td>476.0</td>\n",
              "      <td>824.0</td>\n",
              "      <td>1300.0</td>\n",
              "      <td>866.0</td>\n",
              "      <td>265.0</td>\n",
              "      <td>175.0</td>\n",
              "      <td>700.0</td>\n",
              "      <td>...</td>\n",
              "      <td>14.0</td>\n",
              "      <td>False</td>\n",
              "      <td>0</td>\n",
              "      <td>1</td>\n",
              "      <td>0</td>\n",
              "      <td>0</td>\n",
              "      <td>1</td>\n",
              "      <td>0.088142</td>\n",
              "      <td>0.532519</td>\n",
              "      <td>0.132316</td>\n",
              "    </tr>\n",
              "    <tr>\n",
              "      <th>1</th>\n",
              "      <td>51.0</td>\n",
              "      <td>948.835</td>\n",
              "      <td>587.0</td>\n",
              "      <td>0.0</td>\n",
              "      <td>0.0</td>\n",
              "      <td>0.0</td>\n",
              "      <td>158.0</td>\n",
              "      <td>0.0</td>\n",
              "      <td>0.0</td>\n",
              "      <td>0.0</td>\n",
              "      <td>...</td>\n",
              "      <td>55.0</td>\n",
              "      <td>False</td>\n",
              "      <td>0</td>\n",
              "      <td>1</td>\n",
              "      <td>0</td>\n",
              "      <td>0</td>\n",
              "      <td>1</td>\n",
              "      <td>0.166520</td>\n",
              "      <td>0.618653</td>\n",
              "      <td>0.000000</td>\n",
              "    </tr>\n",
              "    <tr>\n",
              "      <th>2</th>\n",
              "      <td>265.0</td>\n",
              "      <td>2999.030</td>\n",
              "      <td>1712.0</td>\n",
              "      <td>0.0</td>\n",
              "      <td>0.0</td>\n",
              "      <td>72.0</td>\n",
              "      <td>311.0</td>\n",
              "      <td>0.0</td>\n",
              "      <td>0.0</td>\n",
              "      <td>0.0</td>\n",
              "      <td>...</td>\n",
              "      <td>54.0</td>\n",
              "      <td>False</td>\n",
              "      <td>0</td>\n",
              "      <td>1</td>\n",
              "      <td>0</td>\n",
              "      <td>0</td>\n",
              "      <td>1</td>\n",
              "      <td>0.103700</td>\n",
              "      <td>0.570851</td>\n",
              "      <td>0.024008</td>\n",
              "    </tr>\n",
              "    <tr>\n",
              "      <th>3</th>\n",
              "      <td>133.0</td>\n",
              "      <td>2587.000</td>\n",
              "      <td>992.0</td>\n",
              "      <td>55.0</td>\n",
              "      <td>198.0</td>\n",
              "      <td>253.0</td>\n",
              "      <td>291.0</td>\n",
              "      <td>123.0</td>\n",
              "      <td>14.0</td>\n",
              "      <td>207.0</td>\n",
              "      <td>...</td>\n",
              "      <td>0.0</td>\n",
              "      <td>False</td>\n",
              "      <td>0</td>\n",
              "      <td>1</td>\n",
              "      <td>0</td>\n",
              "      <td>0</td>\n",
              "      <td>1</td>\n",
              "      <td>0.112486</td>\n",
              "      <td>0.383456</td>\n",
              "      <td>0.097797</td>\n",
              "    </tr>\n",
              "    <tr>\n",
              "      <th>4</th>\n",
              "      <td>8.0</td>\n",
              "      <td>28.000</td>\n",
              "      <td>7.0</td>\n",
              "      <td>0.0</td>\n",
              "      <td>2.0</td>\n",
              "      <td>2.0</td>\n",
              "      <td>0.0</td>\n",
              "      <td>0.0</td>\n",
              "      <td>0.0</td>\n",
              "      <td>1.0</td>\n",
              "      <td>...</td>\n",
              "      <td>0.0</td>\n",
              "      <td>False</td>\n",
              "      <td>0</td>\n",
              "      <td>1</td>\n",
              "      <td>0</td>\n",
              "      <td>0</td>\n",
              "      <td>1</td>\n",
              "      <td>0.000000</td>\n",
              "      <td>0.250000</td>\n",
              "      <td>0.071429</td>\n",
              "    </tr>\n",
              "  </tbody>\n",
              "</table>\n",
              "<p>5 rows × 31 columns</p>\n",
              "</div>"
            ],
            "text/plain": [
              "   games   minutes     pts  offReb  defReb     reb   asts    stl    blk  \\\n",
              "0  408.0  9825.000  5232.0   476.0   824.0  1300.0  866.0  265.0  175.0   \n",
              "1   51.0   948.835   587.0     0.0     0.0     0.0  158.0    0.0    0.0   \n",
              "2  265.0  2999.030  1712.0     0.0     0.0    72.0  311.0    0.0    0.0   \n",
              "3  133.0  2587.000   992.0    55.0   198.0   253.0  291.0  123.0   14.0   \n",
              "4    8.0    28.000     7.0     0.0     2.0     2.0    0.0    0.0    0.0   \n",
              "\n",
              "   turnover  ...  yrsRetired2004  class  league_A  league_N  Position_C  \\\n",
              "0     700.0  ...            14.0  False         0         1           0   \n",
              "1       0.0  ...            55.0  False         0         1           0   \n",
              "2       0.0  ...            54.0  False         0         1           0   \n",
              "3     207.0  ...             0.0  False         0         1           0   \n",
              "4       1.0  ...             0.0  False         0         1           0   \n",
              "\n",
              "   Position_F  Position_G  Assists Per Minute  Points Per Minute  \\\n",
              "0           0           1            0.088142           0.532519   \n",
              "1           0           1            0.166520           0.618653   \n",
              "2           0           1            0.103700           0.570851   \n",
              "3           0           1            0.112486           0.383456   \n",
              "4           0           1            0.000000           0.250000   \n",
              "\n",
              "   Rebounds Per Minute  \n",
              "0             0.132316  \n",
              "1             0.000000  \n",
              "2             0.024008  \n",
              "3             0.097797  \n",
              "4             0.071429  \n",
              "\n",
              "[5 rows x 31 columns]"
            ]
          },
          "execution_count": 10,
          "metadata": {},
          "output_type": "execute_result"
        }
      ],
      "source": [
        "data['Assists Per Minute'] = np.where(data['minutes'], data['asts'] / data['minutes'], 0)\n",
        "data['Points Per Minute'] = np.where(data['minutes'], data['pts'] / data['minutes'], 0)\n",
        "data['Rebounds Per Minute'] = np.where(data['minutes'], data['reb'] / data['minutes'], 0)\n",
        "\n",
        "#Check to see the new dataset:\n",
        "data.head(5)"
      ]
    },
    {
      "cell_type": "markdown",
      "metadata": {
        "id": "WNfd5IMLw8X5"
      },
      "source": [
        "        Let's now implement the wrapper method and RFE to find the best features in the model"
      ]
    },
    {
      "cell_type": "markdown",
      "metadata": {
        "id": "Hvqs_CZ-w8X5"
      },
      "source": [
        "        This was commented out to improve run time for grading"
      ]
    },
    {
      "cell_type": "code",
      "execution_count": 11,
      "metadata": {
        "id": "E64QFUBiw8X6"
      },
      "outputs": [],
      "source": [
        "# from sklearn.ensemble import RandomForestClassifier\n",
        "# from sklearn.feature_selection import SequentialFeatureSelector as SFS\n",
        "\n",
        "# # Recreate the variables X and Y\n",
        "# X = data.drop(columns='class')\n",
        "# y = data['class']\n",
        "\n",
        "# # Split the dataset\n",
        "# X_train, X_test, y_train, y_test = train_test_split(X, y, test_size=0.33, random_state=3)\n",
        "\n",
        "# randomforest = RandomForestClassifier()\n",
        "\n",
        "# sfs = SFS(randomforest, n_features_to_select='auto', direction='backward', scoring='roc_auc', cv=10)\n",
        "# sfs.fit(X_train, y_train)\n",
        "\n",
        "# X_selected = sfs.transform(X_train)\n",
        "\n",
        "# selected_feature_names = [name for name, selected in zip(X_train.columns, sfs.get_support()) if selected]\n",
        "\n",
        "# print(\"Selected feature names:\", selected_feature_names)"
      ]
    },
    {
      "cell_type": "markdown",
      "metadata": {
        "id": "u7gN62ZTw8X6"
      },
      "source": [
        "        This was commented out to improve run time for grading"
      ]
    },
    {
      "cell_type": "code",
      "execution_count": 12,
      "metadata": {
        "id": "HaNRgchfw8X6"
      },
      "outputs": [],
      "source": [
        "from sklearn.ensemble import RandomForestClassifier\n",
        "from sklearn.feature_selection import SequentialFeatureSelector as SFS\n",
        "\n",
        "# # Recreate the variables X and Y\n",
        "# X = data.drop(columns='class')\n",
        "# y = data['class']\n",
        "\n",
        "# # Split the dataset\n",
        "# X_train, X_test, y_train, y_test = train_test_split(X, y, test_size=0.33, random_state=3)\n",
        "\n",
        "# randomforest = RandomForestClassifier()\n",
        "\n",
        "# sfs = SFS(randomforest, n_features_to_select='auto', direction='forward', scoring='roc_auc', cv=10)\n",
        "# sfs.fit(X_train, y_train)\n",
        "\n",
        "# X_selected = sfs.transform(X_train)\n",
        "\n",
        "# selected_feature_names = [name for name, selected in zip(X_train.columns, sfs.get_support()) if selected]\n",
        "\n",
        "# print(\"Selected feature names:\", selected_feature_names)"
      ]
    },
    {
      "cell_type": "markdown",
      "metadata": {
        "id": "tVSd0gmVw8X6"
      },
      "source": [
        "        Now let's make the models"
      ]
    },
    {
      "cell_type": "code",
      "execution_count": 13,
      "metadata": {
        "colab": {
          "base_uri": "https://localhost:8080/"
        },
        "id": "XRJsv94Vw8X6",
        "outputId": "b35ef20d-3305-4a79-8f4d-4d3f0bdd5ee7"
      },
      "outputs": [
        {
          "name": "stdout",
          "output_type": "stream",
          "text": [
            "Random Forest Model With Information Gain Features\n"
          ]
        },
        {
          "name": "stdout",
          "output_type": "stream",
          "text": [
            "10-Fold Cross-Validation Classification Accuracy: 98.48%\n",
            "\n",
            "10-Fold Cross-Validation ROC AUC: 99.68 %\n"
          ]
        }
      ],
      "source": [
        "#Random\n",
        "#X_selected = data[['ftm', 'Assists Per Minute', 'Points Per Minute','Rebounds Per Minute']]\n",
        "#from SFS\n",
        "#X_selected = data[['offReb', 'defReb', 'stl', 'blk', 'turnover', 'fgm', 'fta', 'ftm', 'totalSeasons', 'yrsRetired2004', 'league_A', 'league_N', 'Position_C', 'Assists Per Minute', 'Rebounds Per Minute']]\n",
        "X_selected = data[ ['defReb', 'reb', 'stl', 'turnover', 'fgm', 'ftm', 'firstSeason', 'yrsRetired2004', 'league_A', 'Position_C', 'Position_F', 'Position_G', 'Assists Per Minute', 'Points Per Minute', 'Rebounds Per Minute']]\n",
        "# from RFE\n",
        "#X_selected = data[['pts','reb', 'fta' , 'ftm', 'firstSeason']]\n",
        "y = data['class']\n",
        "\n",
        "# Split the data into training and testing sets\n",
        "X_train, X_test, y_train, y_test = train_test_split(X_selected, y, test_size=0.33, random_state=3)\n",
        "\n",
        "#randomforest = RandomForestClassifier(max_depth= None, min_samples_leaf= 4, min_samples_split = 2, n_estimators = 10, random_state = 3).fit(X_train,y_train)\n",
        "randomforest = RandomForestClassifier(max_depth = None, min_samples_leaf = 1, min_samples_split = 2, n_estimators = 200, random_state= 3).fit(X_train,y_train)\n",
        "\n",
        "print('Random Forest Model With Information Gain Features')\n",
        "report_score(randomforest, X_train ,y_train,10)"
      ]
    },
    {
      "cell_type": "markdown",
      "metadata": {
        "id": "jiGwwuv0w8X6"
      },
      "source": [
        "        Let's do some hyperparameter tuning"
      ]
    },
    {
      "cell_type": "markdown",
      "metadata": {
        "id": "pNrqTJHM1DQJ"
      },
      "source": [
        "The Gridsearch below was commented out for faster grading"
      ]
    },
    {
      "cell_type": "code",
      "execution_count": 14,
      "metadata": {
        "id": "-ERmnMcQw8X7"
      },
      "outputs": [],
      "source": [
        "#from sklearn.model_selection import GridSearchCV\n",
        "\n",
        "#from sklearn.model_selection import GridSearchCV\n",
        "\n",
        "# Parameter grid\n",
        "#param_grid = {\n",
        "#    'n_estimators': [10, 50, 100, 200],\n",
        "#    'max_depth': [None, 10, 20, 30],\n",
        "#    'min_samples_leaf': [1, 2, 4],\n",
        "#    'min_samples_split': [2, 5, 10]\n",
        "#}\n",
        "\n",
        "# Create the GridSearchCV object with random_state for reproducibility\n",
        "#grid_search_auc = GridSearchCV(estimator=RandomForestClassifier(random_state=3),\n",
        "                               #param_grid=param_grid,\n",
        "                               #cv=10,\n",
        "                               #scoring='roc_auc',\n",
        "                               #n_jobs=-1,\n",
        "                               #verbose=2)\n",
        "\n",
        "# Fit GridSearchCV\n",
        "#grid_search_auc.fit(X_train, y_train)"
      ]
    },
    {
      "cell_type": "code",
      "execution_count": 15,
      "metadata": {
        "id": "bLt6tmkvw8X7"
      },
      "outputs": [],
      "source": [
        "# Print the best parameters found\n",
        "#print(\"Best parameters found: \", grid_search_auc.best_params_)\n",
        "# Print the best ROC AUC score achieved\n",
        "#print(\"Best ROC AUC score from GridSearchCV: {:.4f}\".format(grid_search_auc.best_score_))"
      ]
    },
    {
      "cell_type": "markdown",
      "metadata": {
        "id": "-ftmEZGOw8X7"
      },
      "source": [
        "## The best classification accuracy of my model is 98.48% and the best ROC AUC is 99.68% ##"
      ]
    },
    {
      "cell_type": "markdown",
      "metadata": {
        "id": "iSjNQJX50SAl"
      },
      "source": [
        "## **Part III: Investment Decisions**"
      ]
    },
    {
      "cell_type": "markdown",
      "metadata": {
        "id": "ezk9IAbVsbTu"
      },
      "source": [
        "Assume you have 4,000,000 dollars at your disposal to buy players’ memorabilia. Each individual player's memorabilia costs 40,000 dollars (you can buy a maximum of 100 players’ memorabilia) when the player is not a hall of famer. At this time, it is unknown whether any of the players in the test set will be inducted. Assume that the NBA will release the list of hall of famers some time in the future, before which you must decide whether to buy the memorabilia of any given player.\n",
        "\n",
        "Also assume that if you invest in a player who will later be inducted to the hall of fame, your estimated revenue from selling the corresponding player’s memorabilia after the induction is 120,000 dollars (the memorabilia will appreciate by 80,000 dollars). Also assume that if you decide to buy a given player's memorabilia, and, to your disappointment, the player is not inducted, you will lose 50% of your initial investment in the corresponding player’s memorabilia (i.e., a loss of 20,000 dollars).\n",
        "\n",
        "**3.1: Use the [value_counts()](https://pandas.pydata.org/docs/reference/api/pandas.Series.value_counts.html) method on `y_train` and `y_test`. What is the maximum possible profit attainable from the training set, the testing set, and the entire data set?**"
      ]
    },
    {
      "cell_type": "code",
      "execution_count": 16,
      "metadata": {
        "colab": {
          "base_uri": "https://localhost:8080/"
        },
        "id": "uqPLHdVbyfNW",
        "outputId": "501f9256-0ac8-4d90-bfd4-5aa8a91b0e63"
      },
      "outputs": [
        {
          "name": "stdout",
          "output_type": "stream",
          "text": [
            "y train\n",
            "False    307\n",
            "True      24\n",
            "Name: class, dtype: int64\n",
            "Maximum Profit for Training = 1920000\n",
            "------------------------\n",
            "y test\n",
            "False    143\n",
            "True      21\n",
            "Name: class, dtype: int64\n",
            "Maximum Profit for Testing = 1680000\n",
            "------------------------\n",
            "entire model\n",
            "False    450\n",
            "True      45\n",
            "Name: class, dtype: int64\n",
            "Maximum Profit for Entire Model = 3600000\n"
          ]
        }
      ],
      "source": [
        "print('y train')\n",
        "print(y_train.value_counts())\n",
        "print(f'Maximum Profit for Training = {24*80000}')\n",
        "\n",
        "print('------------------------')\n",
        "print('y test')\n",
        "print(y_test.value_counts())\n",
        "print(f'Maximum Profit for Testing = {21*80000}')\n",
        "\n",
        "print('------------------------')\n",
        "print('entire model')\n",
        "print(y.value_counts())\n",
        "print(f'Maximum Profit for Entire Model = {45*80000}')"
      ]
    },
    {
      "cell_type": "markdown",
      "metadata": {
        "id": "N36rGsiSycZm"
      },
      "source": [
        "    Training - 1920000\n",
        "    Testing - 1680000\n",
        "    Entire Model - 3600000"
      ]
    },
    {
      "cell_type": "markdown",
      "metadata": {
        "id": "nh2a5-lKtneb"
      },
      "source": [
        "**3.2: What evaluation measure/plot (i.e., classification accuracy rate, ROC area, lift chart, or profit chart) would be most appropriate in order to select the predictive model based on which to select players to invest in? Why?**"
      ]
    },
    {
      "cell_type": "markdown",
      "metadata": {
        "id": "oACZzcg2t9Ky"
      },
      "source": [
        "        A profit chart would be most appropriate to select the predictive model based on which to select players to invest in because we are interested in earning the highest profit in this homework, and the profit chart would do just that."
      ]
    },
    {
      "cell_type": "markdown",
      "metadata": {
        "id": "pCztGeLGuf_q"
      },
      "source": [
        "**3.3: Use the training data with 10-fold cross-validation, as well as the evaluation measure/plot you selected in (3.2), to compare between models and to select the model that performs best. Present your results to support your choice of the best model to use. Explain in words how the evidence you present supports your choice of model.**"
      ]
    },
    {
      "cell_type": "code",
      "execution_count": 17,
      "metadata": {
        "colab": {
          "base_uri": "https://localhost:8080/",
          "height": 564
        },
        "id": "4A1XPmGMw8X8",
        "outputId": "c8585123-b230-48f2-c800-9d3af06523a1"
      },
      "outputs": [
        {
          "data": {
            "image/png": "[encoded data removed]",
            "text/plain": [
              "<Figure size 1000x600 with 1 Axes>"
            ]
          },
          "metadata": {},
          "output_type": "display_data"
        }
      ],
      "source": [
        "import numpy as np\n",
        "import pandas as pd\n",
        "import matplotlib.pyplot as plt\n",
        "import matplotlib.ticker as ticker\n",
        "from sklearn.model_selection import cross_val_predict\n",
        "\n",
        "def plot_profit_curve(model, X, y, cost_matrix, n_points=100, ax=None, label=None):\n",
        "    # Get predicted probabilities using cross-validation\n",
        "    prob_pred = cross_val_predict(model, X, y, cv=10, method='predict_proba')\n",
        "\n",
        "    # Prepare the data\n",
        "    result = pd.DataFrame({'true': y, 'predicted_probabilities': prob_pred[:, 1]})\n",
        "    sort = result.sort_values('predicted_probabilities', ascending=False)\n",
        "\n",
        "    thresh_rang = np.linspace(0, 1, n_points)\n",
        "    profits = []\n",
        "\n",
        "    # Calculate profits for each threshold\n",
        "    for i in thresh_rang:\n",
        "        subset = sort.head(int(len(sort) * i))\n",
        "        TP = (subset['true'] == 1).sum()\n",
        "        FP = len(subset) - TP\n",
        "        profit = TP * cost_matrix[0] + FP * cost_matrix[1]\n",
        "        profits.append(profit)\n",
        "\n",
        "    # Plotting\n",
        "    if ax is None:\n",
        "        ax = plt.gca()\n",
        "    ax.plot(thresh_rang, profits, label=label)\n",
        "\n",
        "# Create a figure and axis\n",
        "fig, ax = plt.subplots(figsize=(10, 6))\n",
        "\n",
        "# Define cost matrix\n",
        "cost_matrix = np.array([80000, -40000])\n",
        "\n",
        "# Assuming X_training, y_training are defined and models are already fitted\n",
        "# Plot profit curves for each model\n",
        "plot_profit_curve(randomforest, X_training, y_training, cost_matrix, ax=ax, label='Random Forest')\n",
        "plot_profit_curve(decisions, X_training, y_training, cost_matrix, ax=ax, label='Decision Tree')\n",
        "plot_profit_curve(bagging_model, X_training, y_training, cost_matrix, ax=ax, label='Bagging Model')\n",
        "plot_profit_curve(randomforestog, X_training, y_training, cost_matrix, ax=ax, label='Old Random Forest')\n",
        "plot_profit_curve(bayes, X_training, y_training, cost_matrix, ax=ax, label='Bayes')\n",
        "plot_profit_curve(knn, X_training, y_training, cost_matrix, ax=ax, label='KNN')\n",
        "\n",
        "# Set y-axis to display full integers\n",
        "ax.get_yaxis().set_major_formatter(ticker.FuncFormatter(lambda x, p: format(int(x), ',')))\n",
        "\n",
        "# Finalizing the plot\n",
        "ax.set_xlabel('Proportion of Population')\n",
        "ax.set_ylabel('Cumulative Net Revenue')\n",
        "ax.legend()\n",
        "ax.set_title('Profit Curves Comparison')\n",
        "plt.show()\n"
      ]
    },
    {
      "cell_type": "markdown",
      "metadata": {
        "id": "63zSG7gHwUiS"
      },
      "source": [
        "        My random forest model is the best one to use because out of all the revenue shown in all the charts, my random forest has the highest $ amount."
      ]
    },
    {
      "cell_type": "markdown",
      "metadata": {
        "id": "BJ_N75pp0Lo2"
      },
      "source": [
        "**3.4: Using the model selected in 3.3, formulate clearly the investment strategy you will use to decide which players to invest in. The strategy should include the following:**\n",
        "\n",
        "  **a. Which model to use (along with corresponding parameters, such as number and type of models in bagging ensemble, number of K nearest neighbors, etc.)**\n",
        "\n",
        "  **b. Given your model’s estimated probability of induction, above what probability threshold to invest in a player’s memorabilia.**\n",
        "\n"
      ]
    },
    {
      "cell_type": "code",
      "execution_count": 18,
      "metadata": {
        "colab": {
          "base_uri": "https://localhost:8080/"
        },
        "id": "V2mh_y9Mw8X9",
        "outputId": "9883cbaf-b8b8-44f9-d704-2226cd666245"
      },
      "outputs": [
        {
          "name": "stdout",
          "output_type": "stream",
          "text": [
            "Optimal Threshold: 0.365, Maximum Profit: $1640000\n"
          ]
        }
      ],
      "source": [
        "prob_predictions = cross_val_predict(randomforest, X_train, y_train, cv=10, method='predict_proba')\n",
        "\n",
        "prob_df = pd.DataFrame({\n",
        "    'Actual Class': y_train.reset_index(drop=True),  # Reset index to avoid indexing issues\n",
        "    'prob': [round(pred[1], 4) for pred in prob_predictions]  # Probability of the positive class\n",
        "})\n",
        "\n",
        "# Sorting DataFrame by probabilities in descending order\n",
        "prob_df = prob_df.sort_values(\"prob\", ascending=False)\n",
        "\n",
        "# Initialize a dictionary to store profits for each threshold\n",
        "profit_dt = {}\n",
        "\n",
        "# Iterate over each unique threshold to calculate profits\n",
        "for threshold in prob_df['prob'].unique():\n",
        "    targeted = prob_df[prob_df['prob'] >= threshold]\n",
        "    TP = targeted['Actual Class'].sum()\n",
        "    FP = len(targeted) - TP\n",
        "    profit = TP * 80000 - FP * 40000  # Adjusted loss value to match your details\n",
        "    profit_dt[threshold] = profit\n",
        "\n",
        "# Identifying the optimal threshold for maximum profit\n",
        "optimal_threshold = max(profit_dt, key=profit_dt.get)\n",
        "\n",
        "# Display results\n",
        "print(f\"Optimal Threshold: {optimal_threshold}, Maximum Profit: ${profit_dt[optimal_threshold]}\")"
      ]
    },
    {
      "cell_type": "markdown",
      "metadata": {
        "id": "CytNp08u0ssD"
      },
      "source": [
        "        A. We used RandomForest as our model of choice with the following parameters from our grid search: max_depth= None, min_samples_leaf= 4, min_samples_split = 2, n_estimators = 10, random_state = 3.\n",
        "                We also used the following features we received from using the wrapper method: 'defReb', 'reb', 'stl', 'turnover', 'fgm', 'ftm', 'firstSeason', 'yrsRetired2004', 'league_A', 'Position_C', 'Position_F', 'Position_G', 'Assists Per Minute', 'Points Per Minute', 'Rebounds Per Minute'.\n",
        "                We created the per minute basis attributes with feature engineering\n",
        "\n",
        "        B. The probability threshold is .365 for our model."
      ]
    },
    {
      "cell_type": "markdown",
      "metadata": {
        "id": "ijuEnNK92UzY"
      },
      "source": [
        "**3.5: Using `predict_proba`, predict probabilites for `class` with your best model on the testing data. Then, select which players to invest in based on the optimal probability threshold, display the list of players (along with their example number) in descending probability order, and report your profit.**"
      ]
    },
    {
      "cell_type": "code",
      "execution_count": 19,
      "metadata": {
        "colab": {
          "base_uri": "https://localhost:8080/"
        },
        "id": "Af-q8i-lw8X9",
        "outputId": "f9543d5f-a399-4a02-a4ee-8e4bbfd2fe5f"
      },
      "outputs": [
        {
          "name": "stdout",
          "output_type": "stream",
          "text": [
            "     Example Number  Probability  Invest  Actual Class\n",
            "228             228        0.950    True          True\n",
            "114             114        0.940    True          True\n",
            "353             353        0.910    True          True\n",
            "73               73        0.875    True          True\n",
            "87               87        0.845    True          True\n",
            "347             347        0.845    True          True\n",
            "204             204        0.785    True          True\n",
            "14               14        0.745    True          True\n",
            "397             397        0.695    True          True\n",
            "209             209        0.695    True          True\n",
            "394             394        0.680    True          True\n",
            "80               80        0.535    True          True\n",
            "287             287        0.490    True          True\n",
            "175             175        0.490    True          True\n",
            "24               24        0.430    True         False\n",
            "340             340        0.430    True          True\n",
            "415             415        0.390    True         False\n",
            "112             112        0.375    True          True\n",
            "Profit associated with selected players: $1240000\n"
          ]
        }
      ],
      "source": [
        "# Apply the optimal threshold to the testing data\n",
        "y_prob_test = randomforest.predict_proba(X_test)[:, 1]\n",
        "investment_decisions_test = y_prob_test >= .365\n",
        "\n",
        "# Create a DataFrame for display and analysis, including the actual class\n",
        "selected_players_test = pd.DataFrame({\n",
        "    'Example Number': X_test.index,\n",
        "    'Probability': y_prob_test,\n",
        "    'Invest': investment_decisions_test,\n",
        "    'Actual Class': y_test  # Add the actual class from the test set\n",
        "}).sort_values(by='Probability', ascending=False)\n",
        "\n",
        "selected_players_test = selected_players_test[selected_players_test['Invest'] == True]\n",
        "\n",
        "n_selected_players = len(selected_players_test)\n",
        "n_true_positives = sum(selected_players_test[\"Actual Class\"])\n",
        "n_false_positives = n_selected_players - n_true_positives\n",
        "profit = n_true_positives * 80000 - n_false_positives * 20000\n",
        "\n",
        "print(selected_players_test)\n",
        "print(\"Profit associated with selected players: ${}\".format(profit))"
      ]
    }
  ],
  "metadata": {
    "colab": {
      "collapsed_sections": [
        "O9fAc6eOqLLZ",
        "9FxNDGO9tTCh",
        "SV-TQjOV0IKl",
        "iSjNQJX50SAl",
        "-lsLrtDn0Y67"
      ],
      "provenance": []
    },
    "kernelspec": {
      "display_name": "Python 3",
      "name": "python3"
    },
    "language_info": {
      "codemirror_mode": {
        "name": "ipython",
        "version": 3
      },
      "file_extension": ".py",
      "mimetype": "text/x-python",
      "name": "python",
      "nbconvert_exporter": "python",
      "pygments_lexer": "ipython3",
      "version": "3.11.4"
    }
  },
  "nbformat": 4,
  "nbformat_minor": 0
}
