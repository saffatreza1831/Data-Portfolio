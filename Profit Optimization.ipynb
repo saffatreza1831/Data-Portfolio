{
  "cells": [
    {
      "cell_type": "markdown",
      "metadata": {
        "id": "4zYPQg04pNJz"
      },
      "source": [
        "# **HW4: Machine Learning Based Investment Strategy For NBA Players Memorabilia**\n",
        "\n",
        "# **I will now optimize the profit from my previous workflow using new techniques**\n",
        "\n"
      ]
    },
    {
      "cell_type": "code",
      "execution_count": 23,
      "metadata": {
        "id": "lAItBEBNpMtE"
      },
      "outputs": [],
      "source": [
        "# Import Libraries\n",
        "import numpy as np\n",
        "from matplotlib import pyplot as plt\n",
        "import pandas as pd\n",
        "from sklearn.metrics import confusion_matrix, ConfusionMatrixDisplay, RocCurveDisplay, accuracy_score, confusion_matrix, accuracy_score, roc_curve, auc\n",
        "from sklearn.model_selection import cross_val_score, cross_val_predict\n",
        "from sklearn.tree import DecisionTreeClassifier\n",
        "from sklearn.ensemble import BaggingClassifier, RandomForestClassifier\n",
        "from sklearn.naive_bayes import MultinomialNB\n",
        "from sklearn.neighbors import KNeighborsClassifier\n",
        "from sklearn.feature_selection import SelectKBest, chi2, mutual_info_classif\n",
        "from sklearn.model_selection import train_test_split\n",
        "\n",
        "# Reset Plot Settings\n",
        "plt.rcdefaults()"
      ]
    },
    {
      "cell_type": "code",
      "execution_count": 24,
      "metadata": {
        "id": "5D-PVDT_rDoA"
      },
      "outputs": [],
      "source": [
        "NBA_Data = pd.read_csv('NBA_Data.csv',index_col=0)"
      ]
    },
    {
      "cell_type": "markdown",
      "metadata": {},
      "source": [
        "Adding a function to score by profit"
      ]
    },
    {
      "cell_type": "code",
      "execution_count": 25,
      "metadata": {},
      "outputs": [],
      "source": [
        "from sklearn.metrics import make_scorer\n",
        "\n",
        "def profit_scoring(y_true, y_pred):\n",
        "    # Calculate True Positives (TP) and False Negatives (FN)\n",
        "    TP = ((y_pred == 1) & (y_true == 1)).sum()\n",
        "    FN = ((y_pred == 0) & (y_true == 1)).sum()\n",
        "\n",
        "    # Calculate the profit based on the provided profit/loss values\n",
        "    profit = TP * 80000 - FN * 20000\n",
        "    return profit\n",
        "\n",
        "# Create a scorer that can be used in scikit-learn model selection\n",
        "profit_scorer = make_scorer(profit_scoring, greater_is_better=True)\n"
      ]
    },
    {
      "cell_type": "code",
      "execution_count": 26,
      "metadata": {},
      "outputs": [],
      "source": [
        "def report_score(mymodel, X, y, mycv):\n",
        "# To use this function, all we need to do is feed it our model of interest, X, y, and the number of folds for cross-validation.\n",
        "\n",
        "    # Calculate and print the cross-validation accuracy\n",
        "    cross_val_accuracy = round(cross_val_score(mymodel, X, y, cv = mycv).mean()*100,2)\n",
        "    print(f\"{mycv}-Fold Cross-Validation Classification Accuracy: {cross_val_accuracy:.2f}%\")\n",
        "\n",
        "    # Calculate and print the cross-validation ROC AUC\n",
        "    cross_val_accuracy_roc_auc = round(cross_val_score(mymodel, X, y, cv =  mycv, scoring = 'roc_auc').mean()*100,2)\n",
        "    print(f\"\\n{mycv}-Fold Cross-Validation ROC AUC: {cross_val_accuracy_roc_auc:.2f} %\")"
      ]
    },
    {
      "cell_type": "markdown",
      "metadata": {},
      "source": [
        "## FEATURE SELECTION ##"
      ]
    },
    {
      "cell_type": "markdown",
      "metadata": {},
      "source": [
        "#### Let's fill in the missing values for the Minutes feature for feature selection ####"
      ]
    },
    {
      "cell_type": "code",
      "execution_count": 27,
      "metadata": {},
      "outputs": [
        {
          "name": "stdout",
          "output_type": "stream",
          "text": [
            "Average MSE from cross-validation: 1855478.2880716217\n",
            "Average RMSE from cross-validation: 1362.1594209458824\n",
            "Standard Deviation of imputed 'minutes': 9677.173459442944\n",
            "Standard Deviation of original 'minutes': 9720.614594024819\n"
          ]
        }
      ],
      "source": [
        "import numpy as np\n",
        "import pandas as pd\n",
        "from sklearn.ensemble import RandomForestRegressor\n",
        "from sklearn.experimental import enable_iterative_imputer\n",
        "from sklearn.impute import IterativeImputer\n",
        "from sklearn.model_selection import KFold, cross_val_score\n",
        "\n",
        "import numpy as np\n",
        "import pandas as pd\n",
        "from sklearn.ensemble import RandomForestRegressor\n",
        "from sklearn.experimental import enable_iterative_imputer\n",
        "from sklearn.impute import IterativeImputer\n",
        "from sklearn.model_selection import KFold, cross_val_score\n",
        "\n",
        "data = NBA_Data.copy()\n",
        "\n",
        "# Replace 0s with NaN in the 'minutes' column\n",
        "data['minutes'] = data['minutes'].replace(0, np.nan)\n",
        "\n",
        "# Prepare the dataset with non-missing values to train the model\n",
        "train_data = data[data['minutes'].notna()]\n",
        "\n",
        "features = ['games', 'pts', 'reb', 'asts', 'stl', 'fta', 'tpm', 'firstSeason', 'lastSeason', 'yrsRetired2004', 'league_N', 'Position_C', 'Position_F', 'Position_G']\n",
        "\n",
        "\n",
        "X_train = train_data[features]\n",
        "y_train = train_data['minutes']\n",
        "\n",
        "# Initialize the Random Forest model with the optimal parameters\n",
        "rf_model = RandomForestRegressor(max_depth=None, max_features='sqrt', min_samples_leaf= 1, min_samples_split=2, n_estimators=200,random_state=3\n",
        ")\n",
        "# Initialize the Iterative Imputer with Random Forest as the estimator\n",
        "imputer = IterativeImputer(estimator=RandomForestRegressor(max_depth=None, max_features='sqrt', \n",
        "                                                           min_samples_leaf=1, min_samples_split=2, \n",
        "                                                           n_estimators=200, random_state=3), \n",
        "                           random_state=3)\n",
        "\n",
        "# Prepare dataset with features and target for imputation\n",
        "full_data = data[features + ['minutes']]\n",
        "\n",
        "# Fit the imputer on the dataset\n",
        "imputer.fit(full_data)\n",
        "\n",
        "# Transform the dataset (impute missing values)\n",
        "imputed_data = imputer.transform(full_data)\n",
        "\n",
        "# Convert imputed data back to DataFrame\n",
        "imputed_data_df = pd.DataFrame(imputed_data, columns=features + ['minutes'])\n",
        "\n",
        "# Update original data frame with imputed 'minutes'\n",
        "data.update(imputed_data_df['minutes'])\n",
        "\n",
        "# Standard deviation after imputation\n",
        "std_dev_new = data['minutes'].std()\n",
        "std_dev_original = NBA_Data['minutes'].std()\n",
        "\n",
        "# Preparing the training data from the imputed dataset\n",
        "X_train = imputed_data_df[features]\n",
        "y_train = imputed_data_df['minutes']\n",
        "\n",
        "# Re-train the Random Forest model on the imputed dataset\n",
        "rf_model.fit(X_train, y_train)\n",
        "\n",
        "# Cross-validation to evaluate the model\n",
        "kf = KFold(n_splits=5, shuffle=True, random_state=3)\n",
        "mse_scores = -cross_val_score(rf_model, X_train, y_train, scoring='neg_mean_squared_error', cv=kf)\n",
        "average_mse = np.mean(mse_scores)\n",
        "average_rmse = np.sqrt(average_mse)\n",
        "\n",
        "print(f\"Average MSE from cross-validation: {average_mse}\")\n",
        "print(f\"Average RMSE from cross-validation: {average_rmse}\")\n",
        "print(f\"Standard Deviation of imputed 'minutes': {std_dev_new}\")\n",
        "print(f\"Standard Deviation of original 'minutes': {std_dev_original}\")\n"
      ]
    },
    {
      "cell_type": "code",
      "execution_count": 28,
      "metadata": {},
      "outputs": [],
      "source": [
        "data['Assists Per Minute'] = np.where(data['minutes'], data['asts'] / data['minutes'], 0)\n",
        "data['Points Per Minute'] = np.where(data['minutes'], data['pts'] / data['minutes'], 0)\n",
        "data['Rebounds Per Minute'] = np.where(data['minutes'], data['reb'] / data['minutes'], 0)"
      ]
    },
    {
      "cell_type": "code",
      "execution_count": 29,
      "metadata": {},
      "outputs": [
        {
          "name": "stdout",
          "output_type": "stream",
          "text": [
            "10-Fold Cross-Validation Classification Accuracy: 97.37%\n",
            "\n",
            "10-Fold Cross-Validation ROC AUC: 99.37 %\n"
          ]
        }
      ],
      "source": [
        "x_tesing = data[['minutes', 'pts', 'stl', 'blk', 'fga', 'ftm', 'tpa', 'totalSeasons', 'firstSeason', 'lastSeason', 'careerEnded', 'league_N', 'Position_C', 'Position_G', 'Points Per Minute']]\n",
        "y = data['class']\n",
        "ran = RandomForestClassifier(bootstrap = False, max_depth = None, max_features= 'sqrt', max_leaf_nodes = 50, min_samples_leaf= 1, min_samples_split = 5, n_estimators= 50,random_state=3).fit(x_tesing, y)\n",
        "                                #max_depth': None, 'max_features': 'sqrt', 'min_samples_leaf': 1, 'min_samples_split': 5, 'n_estimators': 200\n",
        "\n",
        "report_score(ran, x_tesing, y, 10)\n"
      ]
    },
    {
      "cell_type": "code",
      "execution_count": 30,
      "metadata": {},
      "outputs": [],
      "source": [
        "# from sklearn.ensemble import RandomForestClassifier\n",
        "# from sklearn.model_selection import GridSearchCV\n",
        "\n",
        "# # Define a more comprehensive parameter grid\n",
        "# param_grid = {\n",
        "#     'n_estimators': [10, 50, 100, 200, 300],  # More options for number of trees\n",
        "#     'max_depth': [None, 10, 20, 30, 50, 70],  # Broader range for maximum depth\n",
        "#     'min_samples_leaf': [1, 2, 4, 6],  # More granular steps for min_samples_leaf\n",
        "#     'min_samples_split': [2, 5, 10, 15],  # More options for min_samples_split\n",
        "#     'max_features': ['sqrt', 'log2', None],  # Different options for number of features to consider\n",
        "#     'bootstrap': [True, False],  # Whether or not to bootstrap the sampling of data points\n",
        "#     'max_leaf_nodes': [None, 10, 50, 100, 200]  # Limits on the number of leaf nodes\n",
        "# }\n",
        "\n",
        "# # Create the GridSearchCV object with random_state for reproducibility\n",
        "# grid_search_auc = GridSearchCV(estimator=RandomForestClassifier(random_state=3),\n",
        "#                                param_grid=param_grid,\n",
        "#                                cv=10,  # 10-fold cross-validation\n",
        "#                                scoring='roc_auc',  # Using ROC AUC as the metric\n",
        "#                                n_jobs=-1,  # Use all available CPUs\n",
        "#                                verbose=2)\n",
        "\n",
        "# # Assume x_tesing and y are already defined and preprocessed\n",
        "# grid_search_auc.fit(x_tesing, y)\n",
        "\n",
        "# # After fitting, print out the best parameters and best score achieved\n",
        "# print(\"Best parameters found: \", grid_search_auc.best_params_)\n",
        "# print(\"Best cross-validation score: {:.2f}\".format(grid_search_auc.best_score_))\n"
      ]
    },
    {
      "cell_type": "code",
      "execution_count": 31,
      "metadata": {},
      "outputs": [],
      "source": [
        "# Get the best parameters\n",
        "# best_params = grid_search_auc.best_params_\n",
        "# # Get the best score achieved\n",
        "# best_score = grid_search_auc.best_score_\n",
        "\n",
        "# print(f\"Best Parameters: {best_params}\")\n",
        "# print(f\"Best AUC Score: {best_score}\")"
      ]
    },
    {
      "cell_type": "markdown",
      "metadata": {},
      "source": [
        "### Let's use the following wrapper method to pick features ###"
      ]
    },
    {
      "cell_type": "code",
      "execution_count": 32,
      "metadata": {},
      "outputs": [],
      "source": [
        "# from sklearn.ensemble import RandomForestClassifier\n",
        "# from sklearn.model_selection import GridSearchCV, cross_val_score  # Corrected import here\n",
        "\n",
        "# # Define your model\n",
        "# classifier = RandomForestClassifier(random_state=3)\n",
        "\n",
        "# # Define the parameter grid\n",
        "# param_grid = {\n",
        "#     'n_estimators': [50, 100, 200],      # Number of trees in the forest\n",
        "#     'max_features': ['sqrt', 'log2', None],  # Number of features to consider at every split\n",
        "#     'max_depth': [None, 10, 20, 30],     # Maximum number of levels in each tree\n",
        "#     'min_samples_split': [2, 5, 10],     # Minimum number of samples required to split an internal node\n",
        "#     'min_samples_leaf': [1, 2, 4]        # Minimum number of samples required at each leaf node\n",
        "# }\n",
        "\n",
        "# # Setup the grid search\n",
        "# grid_search = GridSearchCV(estimator=classifier,\n",
        "#                            param_grid=param_grid,\n",
        "#                            cv=5,  # Consistency with report_score's CV\n",
        "#                            scoring='roc_auc',  # Using ROC AUC to match the reporting function's secondary metric\n",
        "#                            verbose=2,\n",
        "#                            n_jobs=-1)\n",
        "\n",
        "# # Assume x_tesing and y are already defined and preprocessed\n",
        "# grid_search.fit(x_tesing, y)\n",
        "\n",
        "# # Output the best parameters and the best score\n",
        "# print(\"Best parameters found: \", grid_search.best_params_)\n",
        "# print(\"Best cross-validation score: {:.2f}\".format(grid_search.best_score_))\n",
        "\n",
        "\n"
      ]
    },
    {
      "cell_type": "code",
      "execution_count": 33,
      "metadata": {},
      "outputs": [
        {
          "name": "stdout",
          "output_type": "stream",
          "text": [
            "Random Forest Optimal Threshold: 0.36, Profit: $3020000\n"
          ]
        }
      ],
      "source": [
        "prob_df = pd.DataFrame()\n",
        "prob_df['Actual Class'] = y\n",
        "prob_df['prob'] = [round(pred[1],4) for pred in cross_val_predict(ran, x_tesing, y, cv=10, method='predict_proba')]\n",
        "prob_df = prob_df.sort_values(\"prob\", ascending=False)\n",
        "\n",
        "# Initialize dictionary to store profits for each threshold\n",
        "profit_rf = {}\n",
        "\n",
        "# Calculate profits for each threshold for Random Forest\n",
        "for threshold in sorted(prob_df['prob'].unique(), reverse=True):\n",
        "    # Customers targeted above the threshold\n",
        "    targeted = prob_df[prob_df['prob'] >= threshold]\n",
        "    TP = targeted['Actual Class'].sum()  # True Positives\n",
        "    FP = len(targeted) - TP  # False Positives\n",
        "    profit = TP * 80000 - FP * 20000  # Profit calculation\n",
        "    \n",
        "    # Storing profit for the current threshold\n",
        "    profit_rf[threshold] = profit\n",
        "\n",
        "# Identifying the optimal threshold for Random Forest\n",
        "optimal_threshold_rf = max(profit_rf, key=profit_rf.get)\n",
        "\n",
        "# Print optimal thresholds and corresponding profits for Random Forest\n",
        "print(f\"Random Forest Optimal Threshold: {optimal_threshold_rf}, Profit: ${profit_rf[optimal_threshold_rf]}\")"
      ]
    },
    {
      "cell_type": "markdown",
      "metadata": {},
      "source": [
        "# PROFIT IS $3020000 #"
      ]
    },
    {
      "cell_type": "markdown",
      "metadata": {},
      "source": [
        "## PROFIT CHART ##"
      ]
    },
    {
      "cell_type": "code",
      "execution_count": 34,
      "metadata": {},
      "outputs": [
        {
          "data": {
            "image/png": "[encoded data removed]",
            "text/plain": [
              "<Figure size 1000x600 with 1 Axes>"
            ]
          },
          "metadata": {},
          "output_type": "display_data"
        }
      ],
      "source": [
        "import numpy as np\n",
        "import pandas as pd\n",
        "import matplotlib.pyplot as plt\n",
        "import matplotlib.ticker as ticker\n",
        "from sklearn.model_selection import cross_val_predict\n",
        "\n",
        "def plot_profit_curve(model, X, y, cost_matrix, n_points=100, ax=None, label=None):\n",
        "    # Get predicted probabilities using cross-validation\n",
        "    prob_pred = cross_val_predict(model, X, y, cv=10, method='predict_proba')\n",
        "\n",
        "    # Prepare the data\n",
        "    result = pd.DataFrame({'true': y, 'predicted_probabilities': prob_pred[:, 1]})\n",
        "    sort = result.sort_values('predicted_probabilities', ascending=False)\n",
        "\n",
        "    thresh_rang = np.linspace(0, 1, n_points)\n",
        "    profits = []\n",
        "\n",
        "    # Calculate profits for each threshold\n",
        "    for i in thresh_rang:\n",
        "        subset = sort.head(int(len(sort) * i))\n",
        "        TP = (subset['true'] == 1).sum()\n",
        "        FP = len(subset) - TP\n",
        "        profit = TP * cost_matrix[0] + FP * cost_matrix[1]\n",
        "        profits.append(profit)\n",
        "\n",
        "    # Plotting\n",
        "    if ax is None:\n",
        "        ax = plt.gca()\n",
        "    ax.plot(thresh_rang, profits, label=label)\n",
        "\n",
        "# Create a figure and axis\n",
        "fig, ax = plt.subplots(figsize=(10, 6))\n",
        "\n",
        "# Define cost matrix\n",
        "cost_matrix = np.array([80000, -40000])\n",
        "\n",
        "# Assuming X_training, y_training are defined and models are already fitted\n",
        "# Plot profit curves for each model\n",
        "plot_profit_curve(ran, x_tesing, y, cost_matrix, ax=ax, label='ran')\n",
        "\n",
        "# Set y-axis to display full integers\n",
        "ax.get_yaxis().set_major_formatter(ticker.FuncFormatter(lambda x, p: format(int(x), ',')))\n",
        "\n",
        "# Finalizing the plot\n",
        "ax.set_xlabel('Proportion of Population')\n",
        "ax.set_ylabel('Cumulative Net Revenue')\n",
        "ax.legend()\n",
        "ax.set_title('Profit Curves Comparison')\n",
        "plt.show()"
      ]
    },
    {
      "cell_type": "markdown",
      "metadata": {},
      "source": [
        "## SELECTED PLAYERS ##"
      ]
    },
    {
      "cell_type": "code",
      "execution_count": 35,
      "metadata": {},
      "outputs": [
        {
          "name": "stdout",
          "output_type": "stream",
          "text": [
            "Random Forest Optimal Threshold: 0.36, Profit: $3,020,000\n",
            "\n",
            "Selected Players:\n",
            "     Probability\n",
            "96     1.0000   \n",
            "464    1.0000   \n",
            "228    1.0000   \n",
            "209    0.9933   \n",
            "73     0.9933   \n",
            "274    0.9900   \n",
            "347    0.9850   \n",
            "104    0.9800   \n",
            "114    0.9800   \n",
            "353    0.9800   \n",
            "397    0.9700   \n",
            "482    0.9683   \n",
            "301    0.9633   \n",
            "38     0.9633   \n",
            "87     0.9450   \n",
            "355    0.9450   \n",
            "53     0.9400   \n",
            "168    0.9300   \n",
            "487    0.9250   \n",
            "287    0.9117   \n",
            "204    0.9117   \n",
            "6      0.9000   \n",
            "35     0.8950   \n",
            "309    0.8850   \n",
            "480    0.8833   \n",
            "14     0.8817   \n",
            "244    0.8817   \n",
            "24     0.8600   \n",
            "80     0.8367   \n",
            "359    0.8283   \n",
            "143    0.7767   \n",
            "176    0.7283   \n",
            "142    0.6883   \n",
            "492    0.6783   \n",
            "392    0.6700   \n",
            "46     0.6500   \n",
            "10     0.6317   \n",
            "340    0.6100   \n",
            "175    0.6083   \n",
            "394    0.5883   \n",
            "484    0.4750   \n",
            "466    0.4233   \n",
            "112    0.3783   \n",
            "427    0.3600   \n"
          ]
        }
      ],
      "source": [
        "import pandas as pd\n",
        "from sklearn.model_selection import cross_val_predict\n",
        "\n",
        "# Set display options for better DataFrame printouts\n",
        "pd.set_option('display.max_rows', None)  # Adjust based on your dataset size\n",
        "pd.set_option('display.max_columns', None)\n",
        "pd.set_option('display.width', 1000)\n",
        "pd.set_option('display.colheader_justify', 'center')\n",
        "pd.set_option('display.precision', 4)\n",
        "\n",
        "\n",
        "prob_df = pd.DataFrame()\n",
        "prob_df['Actual Class'] = y\n",
        "prob_df['Probability'] = [round(pred[1], 4) for pred in cross_val_predict(ran, x_tesing, y, cv=10, method='predict_proba')]\n",
        "prob_df = prob_df.sort_values(\"Probability\", ascending=False)\n",
        "\n",
        "\n",
        "profit_rf = {}\n",
        "\n",
        "# Calculate profits for each threshold\n",
        "for threshold in sorted(prob_df['Probability'].unique(), reverse=True):\n",
        "    # Customers targeted above the threshold\n",
        "    targeted = prob_df[prob_df['Probability'] >= threshold]\n",
        "    TP = targeted['Actual Class'].sum()  \n",
        "    FP = len(targeted) - TP  \n",
        "    profit = TP * 80000 - FP * 20000  \n",
        "    \n",
        "    # Storing profit for the current threshold\n",
        "    profit_rf[threshold] = profit\n",
        "\n",
        "# Identifying the optimal threshold\n",
        "optimal_threshold_rf = max(profit_rf, key=profit_rf.get)\n",
        "\n",
        "# Output optimal threshold and profit\n",
        "print(f\"Random Forest Optimal Threshold: {optimal_threshold_rf}, Profit: ${profit_rf[optimal_threshold_rf]:,}\")\n",
        "\n",
        "# Select and display players above the optimal threshold\n",
        "selected_players = prob_df[prob_df['Probability'] >= optimal_threshold_rf]\n",
        "selected_players = selected_players[['Probability']].sort_values('Probability', ascending=False)\n",
        "print(\"\\nSelected Players:\")\n",
        "print(selected_players)\n"
      ]
    }
  ],
  "metadata": {
    "colab": {
      "collapsed_sections": [
        "O9fAc6eOqLLZ",
        "9FxNDGO9tTCh",
        "SV-TQjOV0IKl",
        "iSjNQJX50SAl",
        "-lsLrtDn0Y67"
      ],
      "provenance": []
    },
    "kernelspec": {
      "display_name": "Python 3",
      "name": "python3"
    },
    "language_info": {
      "codemirror_mode": {
        "name": "ipython",
        "version": 3
      },
      "file_extension": ".py",
      "mimetype": "text/x-python",
      "name": "python",
      "nbconvert_exporter": "python",
      "pygments_lexer": "ipython3",
      "version": "3.11.7"
    }
  },
  "nbformat": 4,
  "nbformat_minor": 0
}
